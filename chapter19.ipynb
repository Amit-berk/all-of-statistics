{
 "cells": [
  {
   "cell_type": "markdown",
   "metadata": {},
   "source": [
    "## 19. Causal Inference"
   ]
  },
  {
   "cell_type": "markdown",
   "metadata": {},
   "source": [
    "In this chapter we discuss causation.  Roughly speaking \"$X$ causes $Y$\" means that changing the value of $X$ will change the distribution of $Y$.  When $X$ causes $Y$, $X$ and $Y$ will be associated but the reverse is not, in general, true.\n",
    "\n",
    "We will consider two frameworks for discussing causation.  The first uses notation of **counterfactual** random variables.  The second, used in the next chapter, uses **directed acyclic graphs**."
   ]
  },
  {
   "cell_type": "markdown",
   "metadata": {},
   "source": [
    "### 19.1 The Counterfactual Model"
   ]
  },
  {
   "cell_type": "markdown",
   "metadata": {},
   "source": [
    "Suppose that $X$ is a binary treatment variable where $X = 1$ means \"treated\" and $X = 0$ means \"not treated\".\n",
    "\n",
    "Let $Y$ be some outcome variable such as the presence or absence of disease.  To distinguish the statement \"$X$ is associated with $Y$\" from the statement \"$X$ causes $Y$\" we need to enrich our probabilistic vocabulary.  We will decompose the response $Y$ into a more fine-grained object.\n",
    "\n",
    "We introduce two new random variables $(C_0, C_1)$ called **potential outcomes** with the following interpretation: $C_0$ is the outcome if the subject is not treated ($X = 0$) and $C_1$ is the outcome if the subject is treated ($X = 1$).  Then,\n",
    "\n",
    "$$ Y = \\begin{cases}\n",
    "C_0 & \\text{if } X = 0 \\\\\n",
    "C_1 & \\text{if } X = 1\n",
    "\\end{cases}$$"
   ]
  },
  {
   "cell_type": "markdown",
   "metadata": {},
   "source": [
    "We can express the relationship between $Y$ and $(C_0, C_1)$ more succintly by\n",
    "\n",
    "$$ Y = C_X $$\n",
    "\n",
    "This equation is called the **consistency relationship**."
   ]
  },
  {
   "cell_type": "markdown",
   "metadata": {},
   "source": [
    "Here is a toy dataset to make the relationship clear:\n",
    "\n",
    "$$\n",
    "\\begin{array}{cccc}\n",
    "X & Y & C_0 & C_1 \\\\\n",
    "\\hline\n",
    "0 & 4 & 4 & * \\\\\n",
    "0 & 7 & 7 & * \\\\\n",
    "0 & 2 & 2 & * \\\\\n",
    "0 & 8 & 8 & * \\\\\n",
    "\\hline\n",
    "1 & 3 & * & 3 \\\\\n",
    "1 & 5 & * & 5 \\\\\n",
    "1 & 8 & * & 8 \\\\\n",
    "1 & 9 & * & 9\n",
    "\\end{array}\n",
    "$$\n",
    "\n",
    "The asterisks denote unobserved values.  When $X = 0$ we don't observe $C_1$ in which case we say that $C_1$ is a **counterfactual** since it is the outcome you would have had if, counter to the fact, you had been treated ($X = 1$).  Similarly, when $X = 1$ we don't observe $C_0$ and we say that $C_0$ is counterfactual."
   ]
  },
  {
   "cell_type": "markdown",
   "metadata": {},
   "source": [
    "Notice that there are four types of subjects:\n",
    "\n",
    "$$\n",
    "\\begin{array}{lcc}\n",
    "\\text{Type} & C_0 & C_1 \\\\\n",
    "\\hline\n",
    "\\text{Survivors}       & 1 & 1 \\\\\n",
    "\\text{Responders}      & 0 & 1 \\\\\n",
    "\\text{Anti-responders} & 1 & 0 \\\\\n",
    "\\text{Doomed}          & 0 & 0\n",
    "\\end{array}\n",
    "$$\n",
    "\n",
    "Think of all of the potential outcomes $(C_0, C_1)$ as hidden variables that contain all the relevant information about the subject."
   ]
  },
  {
   "cell_type": "markdown",
   "metadata": {},
   "source": [
    "Define the **average causal effect** or **average treatment effect** to be\n",
    "\n",
    "$$ \\theta = \\mathbb{E}(C_1) - \\mathbb{E}(C_0) $$\n",
    "\n",
    "The parameter $\\theta$ has the following interpretation:  $\\theta$ is the mean if everyone were treated ($X = 1$) minus the mean if everyone were not treated ($X = 0$).  There are other ways of measuring the causal effect.  For example, if $C_0$ and $C_1$ are binary, we define the **causal odds ratio**\n",
    "\n",
    "$$ \\frac{\\mathbb{P}(C_1 = 1)}{\\mathbb{P}(C_1 = 0)} \\div \\frac{\\mathbb{P}(C_0 = 1)}{\\mathbb{P}(C_0 = 0)}$$\n",
    "\n",
    "and the **causal relative risk**\n",
    "\n",
    "$$ \\frac{\\mathbb{P}(C_1 = 1)}{\\mathbb{P}(C_0 = 1)} $$\n",
    "\n",
    "The main ideas will be the same whatever causal effect we use.  For simplicity, we shall work with the average causal effect $\\theta$."
   ]
  },
  {
   "cell_type": "markdown",
   "metadata": {},
   "source": [
    "Define the **association** to be\n",
    "\n",
    "$$ \\alpha = \\mathbb{E}(Y | X = 1) - \\mathbb{E}(Y | X = 0)$$\n",
    "\n",
    "Again we could use the odds ratio or other summaries if we wish."
   ]
  },
  {
   "cell_type": "markdown",
   "metadata": {},
   "source": [
    "**Theorem 19.1 (Association is not equal to Causation)**.  In general, $\\theta \\neq \\alpha$."
   ]
  },
  {
   "cell_type": "markdown",
   "metadata": {},
   "source": [
    "**Theorem 19.3**.  Suppose we randomly assign subjects to treatment and that $\\mathbb{P}(X = 0) > 0$ and $\\mathbb{P}(X = 1) > 0$.  Then $\\alpha = \\theta$.  Hence, any consistent estimator of $\\alpha$ is a consistent estimator of $\\theta$.  In particular, a consistent estimator is\n",
    "\n",
    "$$ \\hat{\\theta} = \\hat{\\mathbb{E}}(Y | X = 1) - \\hat{\\mathbb{E}}(Y | X = 0) = \\overline{Y}_1 - \\overline{Y}_0 $$\n",
    "\n",
    "is a consistent estimator of $\\theta$, where\n",
    "\n",
    "$$\n",
    "\\begin{array}{ll}\n",
    "\\hat{Y}_1 = \\frac{1}{n_1} \\sum_{i: X_i = 1} Y_i\n",
    "&\n",
    "\\hat{Y}_0 = \\frac{1}{n_0} \\sum_{i: X_i = 0} Y_i \\\\\n",
    "n_1 = \\sum_{i=1}^n X_i\n",
    "&\n",
    "n_0 = \\sum_{i=1}^n (1 - X_i)\n",
    "\\end{array}\n",
    "$$"
   ]
  },
  {
   "cell_type": "markdown",
   "metadata": {},
   "source": [
    "**Proof**.  Since $X$ is randomly assigned, $X$ is independent of $(C_0, C_1)$.  Hence,\n",
    "\n",
    "$$\n",
    "\\begin{align}\n",
    "\\theta &= \\mathbb{E}(C_1) - \\mathbb{E}(C_0) \\\\\n",
    "&= \\mathbb{E}(C_1 | X = 1) - \\mathbb{E}(C_0 | X = 0) \\\\\n",
    "&= \\mathbb{E}(Y | X = 1) - \\mathbb{E}(Y | X = 0) \\\\\n",
    "&= \\alpha\n",
    "\\end{align}\n",
    "$$\n",
    "\n",
    "The consistency follows from the law of large numbers."
   ]
  },
  {
   "cell_type": "markdown",
   "metadata": {},
   "source": [
    "If $Z$ is a covariate, we define the **conditional causal effect** by\n",
    "\n",
    "$$ \\theta_z = \\mathbb{E}(C_1 | Z = z) - \\mathbb{E}(C_0 | Z = z) $$\n",
    "\n",
    "In a randomized experiment, $\\theta_z = \\mathbb{E}(Y | X = 1, Z = z) - \\mathbb{E}(Y | X = 0, Z = z)$ and we can estimate the conditional causal effect using appropriate sample averages."
   ]
  },
  {
   "cell_type": "markdown",
   "metadata": {},
   "source": [
    "**Summary**\n",
    "\n",
    "- Random variables: $(C_0, C_1, X, Y)$\n",
    "- Consistency relationship: $Y = C_X$\n",
    "- Causal Effect: $\\theta = \\mathbb{E}(C_1) - \\mathbb{E}(C_0)$\n",
    "- Association: $\\alpha = \\mathbb{E}(Y | X = 1) - \\mathbb{E}(Y | X = 0)$\n",
    "- Random Assignment:  $(C_0, C_1) \\text{ ⫫ } X \\Longrightarrow \\theta = \\alpha$"
   ]
  },
  {
   "cell_type": "markdown",
   "metadata": {},
   "source": [
    "### 19.2 Beyond Binary Treatments"
   ]
  },
  {
   "cell_type": "markdown",
   "metadata": {},
   "source": [
    "Suppose that $X \\in \\mathcal{X}$. The counterfactual vector $(C_0, C_1)$ now becomes the **counterfactual process**\n",
    "\n",
    "$$ \\{ C(x) : x \\in \\mathcal{X} \\} $$\n",
    "\n",
    "where $C(x)$ is the outcome a subject would have if subjected to treatment $x$.  The observed response is given by the consistency relation\n",
    "\n",
    "$$ Y \\equiv C(X) $$\n",
    "\n",
    "The **causal regression function** is \n",
    "\n",
    "$$ \\theta(x) = \\mathbb{E}(C(x)) $$\n",
    "\n",
    "The regression function, which measures association, is $r(x) = \\mathbb{E}(Y | X = x)$."
   ]
  },
  {
   "cell_type": "markdown",
   "metadata": {},
   "source": [
    "**Theorem 19.14**.  In general, $\\theta(x) \\neq r(x)$. However, when $X$ is randomly assigned, $\\theta(x) = r(x)$."
   ]
  },
  {
   "cell_type": "markdown",
   "metadata": {},
   "source": [
    "### 19.3 Observational Studies and Confounding"
   ]
  },
  {
   "cell_type": "markdown",
   "metadata": {},
   "source": [
    "A study in which treatment (or exposure) is not randomly assigned is called an **observational study**. In these studies, subjects select their own value of the exposure $X$.  Association and causation could be quite different.  This discrepancy occurs in non-randomized studies because the potential outcome $C$ is not independent of treatment $X$.\n",
    "\n",
    "However, suppose we could find groupings of subjects such that, within each group, $X$ and $\\{ C(x) : x \\in \\mathcal{X} \\}$ are independent.  This would happen if the subjects are very similar within groups.  For example, suppose we find people who are very similar in age, gender, educational background and ethnic background.  Among those people we might feel it is reasonable to assume that the choice of $X$ is essentially random.  These other variables are called **confounding variables**.  If we denote these variables collectively as $Z$, then we can express this idea by saying that\n",
    "\n",
    "$$ \\{ C(x) : x \\in \\mathcal{X} \\} \\text{ ⫫ } X | Z$$\n",
    "\n",
    "If this holds and we observe $Z$ then we say there is **no unmeasured confounding**."
   ]
  },
  {
   "cell_type": "markdown",
   "metadata": {},
   "source": [
    "**Theorem 19.17**.  Suppose that $ \\{ C(x) : x \\in \\mathcal{X} \\} \\text{ ⫫ } X | Z$.  Then,\n",
    "\n",
    "$$ \\theta(x) = \\int \\mathbb{E}(Y | X = x, Z = z) d F_Z(z) dz $$\n",
    "\n",
    "If $\\hat{r}(x, z)$ is a consistent estimate of the regression function $\\mathbb{E}(Y | X = x, Z = z)$, then a consistent estimate of $\\theta(x)$ is\n",
    "\n",
    "$$ \\hat{\\theta}(x) = \\frac{1}{n} \\sum_{i=1}^n \\hat{r}(x, Z_i) $$\n",
    "\n",
    "In particular, if $r(x, z) = \\beta_0 + \\beta_1 x + \\beta_2 z$ is linear, then a consistent estimate of $\\theta(x)$ is\n",
    "\n",
    "$$ \\hat{\\theta}(x) = \\hat{\\beta}_0 + \\hat{\\beta}_2 x + \\hat{\\beta}_2 \\overline{Z}_n $$\n",
    "\n",
    "where $(\\hat{\\beta}_0, \\hat{\\beta}_1, \\hat{\\beta}_2)$ are the least squares estimators."
   ]
  },
  {
   "cell_type": "markdown",
   "metadata": {},
   "source": [
    "Epidemiologists call this definition of $\\theta(x)$ the **adjusted treatment effect**.  The process of computing adjusted treatment effects is called **adjusting (or controlling) for confounding**.  The selection of what confounders $Z$ to measure and control for requires scientic insight.  Even after adjusting for confounders, we cannot be sure that there are not other confounding variables that we missed.  This is why observational studies must be treated with healthy skepticism.  Results from observational studies start to become believable when: (i) the results are replicated in many studies, (ii) each of the studies controlled for plausible confounding variables, (iii) there is a plausible scientic explanation for the existence of a causal relationship.\n",
    "\n",
    "A good example is smoking and cancer.  Numerous studies have shown a relationship between smoking and cancer even after adjusting for many confouding variables.  Moreover, in laboratory studies, smoking has been shown to damage lung cells.  Finally, a causal link between smoking and cancer has been found in randomized animal studies.  It is this collection of evidence over many years that makes this a convincing case.  One single observational study is not, by itself, strong evidence.  Remember that when you read the newspaper."
   ]
  },
  {
   "cell_type": "code",
   "execution_count": null,
   "metadata": {},
   "outputs": [],
   "source": []
  }
 ],
 "metadata": {
  "kernelspec": {
   "display_name": "Python 3",
   "language": "python",
   "name": "python3"
  },
  "language_info": {
   "codemirror_mode": {
    "name": "ipython",
    "version": 3
   },
   "file_extension": ".py",
   "mimetype": "text/x-python",
   "name": "python",
   "nbconvert_exporter": "python",
   "pygments_lexer": "ipython3",
   "version": "3.7.3"
  }
 },
 "nbformat": 4,
 "nbformat_minor": 2
}
