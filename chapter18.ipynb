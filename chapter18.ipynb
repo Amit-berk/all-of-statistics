{
 "cells": [
  {
   "cell_type": "markdown",
   "metadata": {},
   "source": [
    "## 18. Loglinear Models"
   ]
  },
  {
   "cell_type": "markdown",
   "metadata": {},
   "source": [
    "### 18.1 The Loglinear Model"
   ]
  },
  {
   "cell_type": "markdown",
   "metadata": {},
   "source": [
    "Let $X = (X_1, \\dots, X_m)$ be a random vector with probability\n",
    "\n",
    "$$ f(x) = \\mathbb{P}(X = x) = \\mathbb{P}(X_1 = x_1, \\dots, X_m = x_m) $$\n",
    "\n",
    "Let $r_j$ be the number of values that $X_j$ takes; without loss of generality, assume $X_j \\in \\{ 0, 1, \\dots, r_j - 1 \\}$.  Suppose we have $n$ such vectors.\n",
    "\n",
    "We can think of the data as a sample from a Multinomial with $N = r_1 \\times r_2 \\times \\dots \\times r_m$ categories.  The data can be represented as counts in a $r_1 \\times r_2 \\times \\dots \\times r_m$ table.  Let $p = \\{ p_1, \\dots, p_N \\}$ denote the multinomial parameter.\n",
    "\n",
    "Let $S = \\{ 1, \\dots, m \\}$.  Given a vector $x = (x_1, \\dots, x_m)$ and a subset $A \\subset S$, let $x_A = (x_j : j \\in A)$.  For example, if $A = \\{1, 3\\}$ then $x_A = (x_1, x_3)$."
   ]
  },
  {
   "cell_type": "markdown",
   "metadata": {},
   "source": [
    "**Theorem 18.1**.  The joint probability function $f(x)$ of a single random vector $X = (X_1, \\dots, X_m)$ can be written as \n",
    "\n",
    "$$ \\log f(x) = \\sum_{A \\subset S} \\psi_A(x) $$\n",
    "\n",
    "where the sum is over all subsets $A$ of $S = \\{1, \\dots, m \\}$ and the $\\psi$'s satisfy the following conditions:\n",
    "\n",
    "1. $\\psi_\\varnothing(x)$ is a constant;\n",
    "2. For every $A \\subset S$, $\\psi_A(x)$ is only a function of $x_A$ and not the rest of the $x_j$'s.\n",
    "3. If $i \\in A$ and $x_i = 0$, then $\\psi_A(x) = 0$."
   ]
  },
  {
   "cell_type": "markdown",
   "metadata": {},
   "source": [
    "The formula in this theorem is known as the **log-linear expansion** of $f$.  Note that this is the probability function for a single draw.  Each $\\psi_A(x)$ will depend on some unknown parameters $\\beta_A$.  Let $\\beta = (\\beta_A : A \\subset S)$ be the set of all these parameters.  We will write $f(x) = f(x; \\beta)$ when we want to estimate the dependence on the unknown parameters $\\beta$.\n",
    "\n",
    "In terms of the multinomial, the parameter space is\n",
    "\n",
    "$$ \\mathcal{P} = \\left\\{ p = (p_1, \\dots, p_N) : p_j \\geq 0, \\sum_{j=1}^N p_j = 1 \\right\\} $$\n",
    "\n",
    "This is an $N - 1$ dimensional space.  In the log-linear representation, the parameter space is\n",
    "\n",
    "$$ \\Theta = \\Bigg\\{ \\beta = (\\beta_1, \\dots, \\beta_N) : \\beta = \\beta(p), p \\in \\mathcal{P} \\Bigg\\} $$\n",
    "\n",
    "where $\\beta(p)$ is the set of $\\beta$ values associated with $p$.  The set $\\Theta$ is a $N - 1$ dimensional surface in $\\mathbb{R}^N$.  We can always go back and forth between the two parametrizations by writing $\\beta = \\beta(p)$ and $p = p(\\beta)$."
   ]
  },
  {
   "cell_type": "markdown",
   "metadata": {},
   "source": [
    "**Theorem 18.14**.  Let $(X_a, X_b, X_c)$ be a partition of vectors $(X_1, \\dots, X_m)$.  Then $X_b \\text{ ⫫ } X_c \\; | \\; X_a$ if and only if all the $\\psi$-terms in the log-linear expansion that have at least one coordinate in $b$ and one coordinate in $c$ are 0."
   ]
  },
  {
   "cell_type": "markdown",
   "metadata": {},
   "source": [
    "To prove this Theorem, we will use the following Lemma whose proof follows from the definition of conditional independence."
   ]
  },
  {
   "cell_type": "markdown",
   "metadata": {},
   "source": [
    "**Lemma 18.5**.  A partition $(X_a, X_b, X_c)$ satisfies $X_b \\text{ ⫫ } X_c \\; | \\; X_a$ if and only if $(x_a, x_b, x_c) = g(x_a, x_b) h(x_a, x_c)$ for some functions $g$ and $h$."
   ]
  },
  {
   "cell_type": "markdown",
   "metadata": {},
   "source": [
    "**Proof of Theorem 18.14**.  Suppose that $\\psi_t$ is 0 whenever $t$ has coordinates in $b$ and $c$.  Hence, $\\psi_t$ is 0 if $t$ is not a subset of $a \\cup b$ or $t$ is not a subset of $a \\cup c$.  Therefore,\n",
    "\n",
    "$$ \\log f(x) = \\sum_{t \\subset a \\cup b} \\psi_t(x) + \\sum_{t \\subset a \\cup c} \\psi_t(x) - \\sum_{t \\subset a} \\psi_t(x) $$\n",
    "\n",
    "Exponentiating, we see that the joint density is of the form $g(x_a, x_b) h(x_a, x_c)$.  By Lemma 18.5, $X_b \\text{ ⫫ } X_c \\; | \\; X_a$.  The converse follows by reversing the argument."
   ]
  },
  {
   "cell_type": "markdown",
   "metadata": {},
   "source": [
    "### 18.2 Graphical Log-Linear Models"
   ]
  },
  {
   "cell_type": "markdown",
   "metadata": {},
   "source": [
    "Let $\\log f(x) = \\sum_{A \\subset S} \\psi_A(x)$ be a log-linear model.  Then $f$ is **graphical** if all $\\psi$-terms are non-zero except for any pair of coordinates not in the edge set for some graph $\\mathcal{G}$.  In other words, $\\psi_A(x) = 0$ if and only if $\\{i, j\\} \\subset A$ and $(i, j)$ is not an edge."
   ]
  },
  {
   "cell_type": "markdown",
   "metadata": {},
   "source": [
    "Here is a way to think about this definition: if you can add a term to the model and the graph does not change, then the model is not graphical."
   ]
  },
  {
   "cell_type": "markdown",
   "metadata": {},
   "source": [
    "### 18.3 Hierarchical Log-Linear Models"
   ]
  },
  {
   "cell_type": "markdown",
   "metadata": {},
   "source": [
    "There is a set of log-linear models that is larger than the set of graphical models and that are used quite a bit.  These are hierarchical log-linear models."
   ]
  },
  {
   "cell_type": "markdown",
   "metadata": {},
   "source": [
    "A log-linear model is **hierarchical** if $\\psi_a = 0$ and $a \\subset t$ implies that $\\psi_t = 0$."
   ]
  },
  {
   "cell_type": "markdown",
   "metadata": {},
   "source": [
    "**Lemma 18.9**.  A graphical model is hierarchical but the reverse need not be true."
   ]
  },
  {
   "cell_type": "markdown",
   "metadata": {},
   "source": [
    "### 18.4 Model Generators"
   ]
  },
  {
   "cell_type": "markdown",
   "metadata": {},
   "source": [
    "Hierarchical models can be written succintly using **generators**.  This is most easily explained by example.  Suppose that $X = (X_1, X_2, X_3)$.  Then, $M = 1.2 + 1.3$ stands for:\n",
    "\n",
    "$$ \\log f = \\psi_\\varnothing + \\psi_1 + \\psi_2 + \\psi_3 + \\psi_{12} + \\psi_{13}$$\n",
    "\n",
    "The formula $M = 1.2 + 1.3$ says: \"include $\\psi_{12}$ and $\\psi_{13}$\".  We have to also include the lower terms or it won't be hierarchical.  The generator $M = 1.2.3$ is the **saturated** model\n",
    "\n",
    "$$ \\log f = \\psi_\\varnothing + \\psi_1 + \\psi_2 + \\psi_3 + \\psi_{12} + \\psi_{13} + \\psi_{23} + \\psi_{123}$$\n",
    "\n",
    "The saturated models corresponds to fitting and unconstrained multinomial.  Consider $M = 1 + 2 + 3$ which means\n",
    "\n",
    "$$ \\log f = \\psi_\\varnothing + \\psi_1 + \\psi_2 + \\psi_3 $$\n",
    "\n",
    "This is the mutual independence model.  Finally, consider $M = 1.2$ which has log-linear expansion\n",
    "\n",
    "$$ \\log f = \\psi_\\varnothing + \\psi_1 + \\psi_2 + \\psi_{12} $$\n",
    "\n",
    "This models makes $X_3 | X_2 = x_2, X_1 = x_1$ a uniform distribution."
   ]
  },
  {
   "cell_type": "markdown",
   "metadata": {},
   "source": [
    "### 18.5 Lattices"
   ]
  },
  {
   "cell_type": "markdown",
   "metadata": {},
   "source": [
    "Hierarchical models can be organized into something called a **lattice**.  This is the set of all hierarchical models partially ordered by inclusion.  The set of all hierarchical models for two variables can be illustrated as in the figure below."
   ]
  },
  {
   "cell_type": "code",
   "execution_count": 1,
   "metadata": {},
   "outputs": [
    {
     "data": {
      "image/svg+xml": [
       "<?xml version=\"1.0\" encoding=\"UTF-8\" standalone=\"no\"?>\r\n",
       "<!DOCTYPE svg PUBLIC \"-//W3C//DTD SVG 1.1//EN\"\r\n",
       " \"http://www.w3.org/Graphics/SVG/1.1/DTD/svg11.dtd\">\r\n",
       "<!-- Generated by graphviz version 2.38.0 (20140413.2041)\r\n",
       " -->\r\n",
       "<!-- Title: %3 Pages: 1 -->\r\n",
       "<svg width=\"134pt\" height=\"260pt\"\r\n",
       " viewBox=\"0.00 0.00 134.00 260.00\" xmlns=\"http://www.w3.org/2000/svg\" xmlns:xlink=\"http://www.w3.org/1999/xlink\">\r\n",
       "<g id=\"graph0\" class=\"graph\" transform=\"scale(1 1) rotate(0) translate(4 256)\">\r\n",
       "<title>%3</title>\r\n",
       "<polygon fill=\"white\" stroke=\"none\" points=\"-4,4 -4,-256 130,-256 130,4 -4,4\"/>\r\n",
       "<!-- 1.2 -->\r\n",
       "<g id=\"node1\" class=\"node\"><title>1.2</title>\r\n",
       "<ellipse fill=\"none\" stroke=\"black\" cx=\"63\" cy=\"-234\" rx=\"27\" ry=\"18\"/>\r\n",
       "<text text-anchor=\"middle\" x=\"63\" y=\"-230.3\" font-family=\"Times New Roman,serif\" font-size=\"14.00\">1.2</text>\r\n",
       "</g>\r\n",
       "<!-- 1 + 2 -->\r\n",
       "<g id=\"node2\" class=\"node\"><title>1 + 2</title>\r\n",
       "<ellipse fill=\"none\" stroke=\"black\" cx=\"63\" cy=\"-162\" rx=\"29.795\" ry=\"18\"/>\r\n",
       "<text text-anchor=\"middle\" x=\"63\" y=\"-158.3\" font-family=\"Times New Roman,serif\" font-size=\"14.00\">1 + 2</text>\r\n",
       "</g>\r\n",
       "<!-- 1.2&#45;&gt;1 + 2 -->\r\n",
       "<g id=\"edge1\" class=\"edge\"><title>1.2&#45;&gt;1 + 2</title>\r\n",
       "<path fill=\"none\" stroke=\"black\" d=\"M63,-215.697C63,-207.983 63,-198.712 63,-190.112\"/>\r\n",
       "<polygon fill=\"black\" stroke=\"black\" points=\"66.5001,-190.104 63,-180.104 59.5001,-190.104 66.5001,-190.104\"/>\r\n",
       "</g>\r\n",
       "<!-- 1 -->\r\n",
       "<g id=\"node3\" class=\"node\"><title>1</title>\r\n",
       "<ellipse fill=\"none\" stroke=\"black\" cx=\"27\" cy=\"-90\" rx=\"27\" ry=\"18\"/>\r\n",
       "<text text-anchor=\"middle\" x=\"27\" y=\"-86.3\" font-family=\"Times New Roman,serif\" font-size=\"14.00\">1</text>\r\n",
       "</g>\r\n",
       "<!-- 1 + 2&#45;&gt;1 -->\r\n",
       "<g id=\"edge2\" class=\"edge\"><title>1 + 2&#45;&gt;1</title>\r\n",
       "<path fill=\"none\" stroke=\"black\" d=\"M54.4685,-144.411C50.1645,-136.042 44.8508,-125.71 40.0473,-116.37\"/>\r\n",
       "<polygon fill=\"black\" stroke=\"black\" points=\"43.1563,-114.762 35.4703,-107.47 36.9313,-117.964 43.1563,-114.762\"/>\r\n",
       "</g>\r\n",
       "<!-- 2 -->\r\n",
       "<g id=\"node4\" class=\"node\"><title>2</title>\r\n",
       "<ellipse fill=\"none\" stroke=\"black\" cx=\"99\" cy=\"-90\" rx=\"27\" ry=\"18\"/>\r\n",
       "<text text-anchor=\"middle\" x=\"99\" y=\"-86.3\" font-family=\"Times New Roman,serif\" font-size=\"14.00\">2</text>\r\n",
       "</g>\r\n",
       "<!-- 1 + 2&#45;&gt;2 -->\r\n",
       "<g id=\"edge3\" class=\"edge\"><title>1 + 2&#45;&gt;2</title>\r\n",
       "<path fill=\"none\" stroke=\"black\" d=\"M71.5315,-144.411C75.8355,-136.042 81.1492,-125.71 85.9527,-116.37\"/>\r\n",
       "<polygon fill=\"black\" stroke=\"black\" points=\"89.0687,-117.964 90.5297,-107.47 82.8437,-114.762 89.0687,-117.964\"/>\r\n",
       "</g>\r\n",
       "<!-- 0 -->\r\n",
       "<g id=\"node5\" class=\"node\"><title>0</title>\r\n",
       "<ellipse fill=\"none\" stroke=\"black\" cx=\"63\" cy=\"-18\" rx=\"27\" ry=\"18\"/>\r\n",
       "<text text-anchor=\"middle\" x=\"63\" y=\"-14.3\" font-family=\"Times New Roman,serif\" font-size=\"14.00\">0</text>\r\n",
       "</g>\r\n",
       "<!-- 1&#45;&gt;0 -->\r\n",
       "<g id=\"edge4\" class=\"edge\"><title>1&#45;&gt;0</title>\r\n",
       "<path fill=\"none\" stroke=\"black\" d=\"M35.3496,-72.7646C39.7115,-64.2831 45.1469,-53.7144 50.0413,-44.1974\"/>\r\n",
       "<polygon fill=\"black\" stroke=\"black\" points=\"53.2346,-45.6409 54.6957,-35.1473 47.0096,-42.4395 53.2346,-45.6409\"/>\r\n",
       "</g>\r\n",
       "<!-- 2&#45;&gt;0 -->\r\n",
       "<g id=\"edge5\" class=\"edge\"><title>2&#45;&gt;0</title>\r\n",
       "<path fill=\"none\" stroke=\"black\" d=\"M90.6504,-72.7646C86.2885,-64.2831 80.8531,-53.7144 75.9587,-44.1974\"/>\r\n",
       "<polygon fill=\"black\" stroke=\"black\" points=\"78.9904,-42.4395 71.3043,-35.1473 72.7654,-45.6409 78.9904,-42.4395\"/>\r\n",
       "</g>\r\n",
       "</g>\r\n",
       "</svg>\r\n"
      ],
      "text/plain": [
       "<graphviz.dot.Digraph at 0x142bf9b9c88>"
      ]
     },
     "execution_count": 1,
     "metadata": {},
     "output_type": "execute_result"
    }
   ],
   "source": [
    "from graphviz import Digraph\n",
    "\n",
    "d = Digraph()\n",
    "\n",
    "d.edge('1.2', '1 + 2')\n",
    "d.edge('1 + 2', '1')\n",
    "d.edge('1 + 2', '2')\n",
    "d.edge('1', '0')\n",
    "d.edge('2', '0')\n",
    "\n",
    "d"
   ]
  },
  {
   "cell_type": "markdown",
   "metadata": {},
   "source": [
    "$M = 1.2$ is the saturated model, $M = 1 + 2$ is the independence model, $M = 1$ is the independence model plus $X_2 | X_1$ is uniform, $M = 2$ is the independence model plus $X_1 | X_2$ is uniform, $M = 0$ is the uniform distribution."
   ]
  },
  {
   "cell_type": "markdown",
   "metadata": {},
   "source": [
    "The lattice of trivariate models is shown in the figure below:"
   ]
  },
  {
   "cell_type": "code",
   "execution_count": 2,
   "metadata": {},
   "outputs": [
    {
     "data": {
      "image/svg+xml": [
       "<?xml version=\"1.0\" encoding=\"UTF-8\" standalone=\"no\"?>\r\n",
       "<!DOCTYPE svg PUBLIC \"-//W3C//DTD SVG 1.1//EN\"\r\n",
       " \"http://www.w3.org/Graphics/SVG/1.1/DTD/svg11.dtd\">\r\n",
       "<!-- Generated by graphviz version 2.38.0 (20140413.2041)\r\n",
       " -->\r\n",
       "<!-- Title: %3 Pages: 1 -->\r\n",
       "<svg width=\"320pt\" height=\"548pt\"\r\n",
       " viewBox=\"0.00 0.00 319.55 548.00\" xmlns=\"http://www.w3.org/2000/svg\" xmlns:xlink=\"http://www.w3.org/1999/xlink\">\r\n",
       "<g id=\"graph0\" class=\"graph\" transform=\"scale(1 1) rotate(0) translate(4 544)\">\r\n",
       "<title>%3</title>\r\n",
       "<polygon fill=\"white\" stroke=\"none\" points=\"-4,4 -4,-544 315.546,-544 315.546,4 -4,4\"/>\r\n",
       "<!-- 1.2.3 -->\r\n",
       "<g id=\"node1\" class=\"node\"><title>1.2.3</title>\r\n",
       "<ellipse fill=\"none\" stroke=\"black\" cx=\"163\" cy=\"-522\" rx=\"28.6953\" ry=\"18\"/>\r\n",
       "<text text-anchor=\"middle\" x=\"163\" y=\"-518.3\" font-family=\"Times New Roman,serif\" font-size=\"14.00\">1.2.3</text>\r\n",
       "</g>\r\n",
       "<!-- 1.2 + 1.3 + 2.3 -->\r\n",
       "<g id=\"node2\" class=\"node\"><title>1.2 + 1.3 + 2.3</title>\r\n",
       "<ellipse fill=\"none\" stroke=\"black\" cx=\"163\" cy=\"-450\" rx=\"64.9885\" ry=\"18\"/>\r\n",
       "<text text-anchor=\"middle\" x=\"163\" y=\"-446.3\" font-family=\"Times New Roman,serif\" font-size=\"14.00\">1.2 + 1.3 + 2.3</text>\r\n",
       "</g>\r\n",
       "<!-- 1.2.3&#45;&gt;1.2 + 1.3 + 2.3 -->\r\n",
       "<g id=\"edge1\" class=\"edge\"><title>1.2.3&#45;&gt;1.2 + 1.3 + 2.3</title>\r\n",
       "<path fill=\"none\" stroke=\"black\" d=\"M163,-503.697C163,-495.983 163,-486.712 163,-478.112\"/>\r\n",
       "<polygon fill=\"black\" stroke=\"black\" points=\"166.5,-478.104 163,-468.104 159.5,-478.104 166.5,-478.104\"/>\r\n",
       "</g>\r\n",
       "<!-- 1.2 + 1.3 -->\r\n",
       "<g id=\"node3\" class=\"node\"><title>1.2 + 1.3</title>\r\n",
       "<ellipse fill=\"none\" stroke=\"black\" cx=\"58\" cy=\"-378\" rx=\"43.5923\" ry=\"18\"/>\r\n",
       "<text text-anchor=\"middle\" x=\"58\" y=\"-374.3\" font-family=\"Times New Roman,serif\" font-size=\"14.00\">1.2 + 1.3</text>\r\n",
       "</g>\r\n",
       "<!-- 1.2 + 1.3 + 2.3&#45;&gt;1.2 + 1.3 -->\r\n",
       "<g id=\"edge2\" class=\"edge\"><title>1.2 + 1.3 + 2.3&#45;&gt;1.2 + 1.3</title>\r\n",
       "<path fill=\"none\" stroke=\"black\" d=\"M139.174,-433.116C124.164,-423.11 104.645,-410.096 88.508,-399.339\"/>\r\n",
       "<polygon fill=\"black\" stroke=\"black\" points=\"90.2035,-396.263 79.9415,-393.628 86.3206,-402.087 90.2035,-396.263\"/>\r\n",
       "</g>\r\n",
       "<!-- 1.2 + 2.3 -->\r\n",
       "<g id=\"node4\" class=\"node\"><title>1.2 + 2.3</title>\r\n",
       "<ellipse fill=\"none\" stroke=\"black\" cx=\"163\" cy=\"-378\" rx=\"43.5923\" ry=\"18\"/>\r\n",
       "<text text-anchor=\"middle\" x=\"163\" y=\"-374.3\" font-family=\"Times New Roman,serif\" font-size=\"14.00\">1.2 + 2.3</text>\r\n",
       "</g>\r\n",
       "<!-- 1.2 + 1.3 + 2.3&#45;&gt;1.2 + 2.3 -->\r\n",
       "<g id=\"edge3\" class=\"edge\"><title>1.2 + 1.3 + 2.3&#45;&gt;1.2 + 2.3</title>\r\n",
       "<path fill=\"none\" stroke=\"black\" d=\"M163,-431.697C163,-423.983 163,-414.712 163,-406.112\"/>\r\n",
       "<polygon fill=\"black\" stroke=\"black\" points=\"166.5,-406.104 163,-396.104 159.5,-406.104 166.5,-406.104\"/>\r\n",
       "</g>\r\n",
       "<!-- 1.3 + 2.3 -->\r\n",
       "<g id=\"node5\" class=\"node\"><title>1.3 + 2.3</title>\r\n",
       "<ellipse fill=\"none\" stroke=\"black\" cx=\"268\" cy=\"-378\" rx=\"43.5923\" ry=\"18\"/>\r\n",
       "<text text-anchor=\"middle\" x=\"268\" y=\"-374.3\" font-family=\"Times New Roman,serif\" font-size=\"14.00\">1.3 + 2.3</text>\r\n",
       "</g>\r\n",
       "<!-- 1.2 + 1.3 + 2.3&#45;&gt;1.3 + 2.3 -->\r\n",
       "<g id=\"edge4\" class=\"edge\"><title>1.2 + 1.3 + 2.3&#45;&gt;1.3 + 2.3</title>\r\n",
       "<path fill=\"none\" stroke=\"black\" d=\"M186.826,-433.116C201.836,-423.11 221.355,-410.096 237.492,-399.339\"/>\r\n",
       "<polygon fill=\"black\" stroke=\"black\" points=\"239.679,-402.087 246.058,-393.628 235.797,-396.263 239.679,-402.087\"/>\r\n",
       "</g>\r\n",
       "<!-- 1.2 + 3 -->\r\n",
       "<g id=\"node6\" class=\"node\"><title>1.2 + 3</title>\r\n",
       "<ellipse fill=\"none\" stroke=\"black\" cx=\"61\" cy=\"-306\" rx=\"36.2938\" ry=\"18\"/>\r\n",
       "<text text-anchor=\"middle\" x=\"61\" y=\"-302.3\" font-family=\"Times New Roman,serif\" font-size=\"14.00\">1.2 + 3</text>\r\n",
       "</g>\r\n",
       "<!-- 1.2 + 1.3&#45;&gt;1.2 + 3 -->\r\n",
       "<g id=\"edge5\" class=\"edge\"><title>1.2 + 1.3&#45;&gt;1.2 + 3</title>\r\n",
       "<path fill=\"none\" stroke=\"black\" d=\"M58.7416,-359.697C59.0722,-351.983 59.4695,-342.712 59.838,-334.112\"/>\r\n",
       "<polygon fill=\"black\" stroke=\"black\" points=\"63.3355,-334.245 60.267,-324.104 56.3419,-333.945 63.3355,-334.245\"/>\r\n",
       "</g>\r\n",
       "<!-- 1.3 + 2 -->\r\n",
       "<g id=\"node7\" class=\"node\"><title>1.3 + 2</title>\r\n",
       "<ellipse fill=\"none\" stroke=\"black\" cx=\"166\" cy=\"-306\" rx=\"36.2938\" ry=\"18\"/>\r\n",
       "<text text-anchor=\"middle\" x=\"166\" y=\"-302.3\" font-family=\"Times New Roman,serif\" font-size=\"14.00\">1.3 + 2</text>\r\n",
       "</g>\r\n",
       "<!-- 1.2 + 1.3&#45;&gt;1.3 + 2 -->\r\n",
       "<g id=\"edge7\" class=\"edge\"><title>1.2 + 1.3&#45;&gt;1.3 + 2</title>\r\n",
       "<path fill=\"none\" stroke=\"black\" d=\"M80.3777,-362.496C96.4775,-352.061 118.368,-337.873 135.984,-326.455\"/>\r\n",
       "<polygon fill=\"black\" stroke=\"black\" points=\"138.265,-329.147 144.753,-320.771 134.458,-323.273 138.265,-329.147\"/>\r\n",
       "</g>\r\n",
       "<!-- 1.2 + 2.3&#45;&gt;1.2 + 3 -->\r\n",
       "<g id=\"edge6\" class=\"edge\"><title>1.2 + 2.3&#45;&gt;1.2 + 3</title>\r\n",
       "<path fill=\"none\" stroke=\"black\" d=\"M141.368,-362.155C126.467,-351.929 106.492,-338.22 90.184,-327.028\"/>\r\n",
       "<polygon fill=\"black\" stroke=\"black\" points=\"91.7825,-323.88 81.5568,-321.108 87.8215,-329.652 91.7825,-323.88\"/>\r\n",
       "</g>\r\n",
       "<!-- 2.3 + 1 -->\r\n",
       "<g id=\"node8\" class=\"node\"><title>2.3 + 1</title>\r\n",
       "<ellipse fill=\"none\" stroke=\"black\" cx=\"264\" cy=\"-306\" rx=\"36.2938\" ry=\"18\"/>\r\n",
       "<text text-anchor=\"middle\" x=\"264\" y=\"-302.3\" font-family=\"Times New Roman,serif\" font-size=\"14.00\">2.3 + 1</text>\r\n",
       "</g>\r\n",
       "<!-- 1.2 + 2.3&#45;&gt;2.3 + 1 -->\r\n",
       "<g id=\"edge9\" class=\"edge\"><title>1.2 + 2.3&#45;&gt;2.3 + 1</title>\r\n",
       "<path fill=\"none\" stroke=\"black\" d=\"M184.42,-362.155C199.175,-351.929 218.954,-338.22 235.102,-327.028\"/>\r\n",
       "<polygon fill=\"black\" stroke=\"black\" points=\"237.419,-329.681 243.645,-321.108 233.432,-323.927 237.419,-329.681\"/>\r\n",
       "</g>\r\n",
       "<!-- 1.3 + 2.3&#45;&gt;1.3 + 2 -->\r\n",
       "<g id=\"edge8\" class=\"edge\"><title>1.3 + 2.3&#45;&gt;1.3 + 2</title>\r\n",
       "<path fill=\"none\" stroke=\"black\" d=\"M246.368,-362.155C231.467,-351.929 211.492,-338.22 195.184,-327.028\"/>\r\n",
       "<polygon fill=\"black\" stroke=\"black\" points=\"196.782,-323.88 186.557,-321.108 192.822,-329.652 196.782,-323.88\"/>\r\n",
       "</g>\r\n",
       "<!-- 1.3 + 2.3&#45;&gt;2.3 + 1 -->\r\n",
       "<g id=\"edge10\" class=\"edge\"><title>1.3 + 2.3&#45;&gt;2.3 + 1</title>\r\n",
       "<path fill=\"none\" stroke=\"black\" d=\"M267.011,-359.697C266.57,-351.983 266.041,-342.712 265.549,-334.112\"/>\r\n",
       "<polygon fill=\"black\" stroke=\"black\" points=\"269.042,-333.888 264.977,-324.104 262.054,-334.288 269.042,-333.888\"/>\r\n",
       "</g>\r\n",
       "<!-- 1 + 2 + 3 -->\r\n",
       "<g id=\"node9\" class=\"node\"><title>1 + 2 + 3</title>\r\n",
       "<ellipse fill=\"none\" stroke=\"black\" cx=\"116\" cy=\"-234\" rx=\"44.393\" ry=\"18\"/>\r\n",
       "<text text-anchor=\"middle\" x=\"116\" y=\"-230.3\" font-family=\"Times New Roman,serif\" font-size=\"14.00\">1 + 2 + 3</text>\r\n",
       "</g>\r\n",
       "<!-- 1.2 + 3&#45;&gt;1 + 2 + 3 -->\r\n",
       "<g id=\"edge11\" class=\"edge\"><title>1.2 + 3&#45;&gt;1 + 2 + 3</title>\r\n",
       "<path fill=\"none\" stroke=\"black\" d=\"M73.7563,-288.765C80.5305,-280.143 88.9992,-269.365 96.5719,-259.727\"/>\r\n",
       "<polygon fill=\"black\" stroke=\"black\" points=\"99.5048,-261.659 102.931,-251.633 94.0005,-257.334 99.5048,-261.659\"/>\r\n",
       "</g>\r\n",
       "<!-- 1.2 -->\r\n",
       "<g id=\"node10\" class=\"node\"><title>1.2</title>\r\n",
       "<ellipse fill=\"none\" stroke=\"black\" cx=\"27\" cy=\"-234\" rx=\"27\" ry=\"18\"/>\r\n",
       "<text text-anchor=\"middle\" x=\"27\" y=\"-230.3\" font-family=\"Times New Roman,serif\" font-size=\"14.00\">1.2</text>\r\n",
       "</g>\r\n",
       "<!-- 1.2 + 3&#45;&gt;1.2 -->\r\n",
       "<g id=\"edge14\" class=\"edge\"><title>1.2 + 3&#45;&gt;1.2</title>\r\n",
       "<path fill=\"none\" stroke=\"black\" d=\"M52.9425,-288.411C48.9199,-280.129 43.9635,-269.925 39.4644,-260.662\"/>\r\n",
       "<polygon fill=\"black\" stroke=\"black\" points=\"42.5171,-258.936 34.9997,-251.47 36.2205,-261.994 42.5171,-258.936\"/>\r\n",
       "</g>\r\n",
       "<!-- 1.3 + 2&#45;&gt;1 + 2 + 3 -->\r\n",
       "<g id=\"edge12\" class=\"edge\"><title>1.3 + 2&#45;&gt;1 + 2 + 3</title>\r\n",
       "<path fill=\"none\" stroke=\"black\" d=\"M154.403,-288.765C148.307,-280.23 140.702,-269.582 133.871,-260.019\"/>\r\n",
       "<polygon fill=\"black\" stroke=\"black\" points=\"136.541,-257.736 127.881,-251.633 130.845,-261.805 136.541,-257.736\"/>\r\n",
       "</g>\r\n",
       "<!-- 1.3 -->\r\n",
       "<g id=\"node11\" class=\"node\"><title>1.3</title>\r\n",
       "<ellipse fill=\"none\" stroke=\"black\" cx=\"205\" cy=\"-234\" rx=\"27\" ry=\"18\"/>\r\n",
       "<text text-anchor=\"middle\" x=\"205\" y=\"-230.3\" font-family=\"Times New Roman,serif\" font-size=\"14.00\">1.3</text>\r\n",
       "</g>\r\n",
       "<!-- 1.3 + 2&#45;&gt;1.3 -->\r\n",
       "<g id=\"edge15\" class=\"edge\"><title>1.3 + 2&#45;&gt;1.3</title>\r\n",
       "<path fill=\"none\" stroke=\"black\" d=\"M175.242,-288.411C179.905,-280.042 185.662,-269.71 190.865,-260.37\"/>\r\n",
       "<polygon fill=\"black\" stroke=\"black\" points=\"194.014,-261.909 195.824,-251.47 187.899,-258.502 194.014,-261.909\"/>\r\n",
       "</g>\r\n",
       "<!-- 2.3 + 1&#45;&gt;1 + 2 + 3 -->\r\n",
       "<g id=\"edge13\" class=\"edge\"><title>2.3 + 1&#45;&gt;1 + 2 + 3</title>\r\n",
       "<path fill=\"none\" stroke=\"black\" d=\"M238.558,-292.967C214.9,-281.777 179.387,-264.981 152.67,-252.344\"/>\r\n",
       "<polygon fill=\"black\" stroke=\"black\" points=\"154.157,-249.176 143.621,-248.064 151.164,-255.503 154.157,-249.176\"/>\r\n",
       "</g>\r\n",
       "<!-- 2.3 -->\r\n",
       "<g id=\"node12\" class=\"node\"><title>2.3</title>\r\n",
       "<ellipse fill=\"none\" stroke=\"black\" cx=\"277\" cy=\"-234\" rx=\"27\" ry=\"18\"/>\r\n",
       "<text text-anchor=\"middle\" x=\"277\" y=\"-230.3\" font-family=\"Times New Roman,serif\" font-size=\"14.00\">2.3</text>\r\n",
       "</g>\r\n",
       "<!-- 2.3 + 1&#45;&gt;2.3 -->\r\n",
       "<g id=\"edge16\" class=\"edge\"><title>2.3 + 1&#45;&gt;2.3</title>\r\n",
       "<path fill=\"none\" stroke=\"black\" d=\"M267.147,-288.055C268.579,-280.346 270.309,-271.027 271.918,-262.364\"/>\r\n",
       "<polygon fill=\"black\" stroke=\"black\" points=\"275.407,-262.746 273.792,-252.275 268.525,-261.468 275.407,-262.746\"/>\r\n",
       "</g>\r\n",
       "<!-- 1 + 2 -->\r\n",
       "<g id=\"node13\" class=\"node\"><title>1 + 2</title>\r\n",
       "<ellipse fill=\"none\" stroke=\"black\" cx=\"77\" cy=\"-162\" rx=\"29.795\" ry=\"18\"/>\r\n",
       "<text text-anchor=\"middle\" x=\"77\" y=\"-158.3\" font-family=\"Times New Roman,serif\" font-size=\"14.00\">1 + 2</text>\r\n",
       "</g>\r\n",
       "<!-- 1 + 2 + 3&#45;&gt;1 + 2 -->\r\n",
       "<g id=\"edge20\" class=\"edge\"><title>1 + 2 + 3&#45;&gt;1 + 2</title>\r\n",
       "<path fill=\"none\" stroke=\"black\" d=\"M106.559,-216.055C101.893,-207.679 96.1679,-197.404 91.0033,-188.134\"/>\r\n",
       "<polygon fill=\"black\" stroke=\"black\" points=\"94.0099,-186.339 86.0853,-179.307 87.8949,-189.746 94.0099,-186.339\"/>\r\n",
       "</g>\r\n",
       "<!-- 1 + 3 -->\r\n",
       "<g id=\"node14\" class=\"node\"><title>1 + 3</title>\r\n",
       "<ellipse fill=\"none\" stroke=\"black\" cx=\"155\" cy=\"-162\" rx=\"29.795\" ry=\"18\"/>\r\n",
       "<text text-anchor=\"middle\" x=\"155\" y=\"-158.3\" font-family=\"Times New Roman,serif\" font-size=\"14.00\">1 + 3</text>\r\n",
       "</g>\r\n",
       "<!-- 1 + 2 + 3&#45;&gt;1 + 3 -->\r\n",
       "<g id=\"edge21\" class=\"edge\"><title>1 + 2 + 3&#45;&gt;1 + 3</title>\r\n",
       "<path fill=\"none\" stroke=\"black\" d=\"M125.441,-216.055C130.107,-207.679 135.832,-197.404 140.997,-188.134\"/>\r\n",
       "<polygon fill=\"black\" stroke=\"black\" points=\"144.105,-189.746 145.915,-179.307 137.99,-186.339 144.105,-189.746\"/>\r\n",
       "</g>\r\n",
       "<!-- 2 + 3 -->\r\n",
       "<g id=\"node15\" class=\"node\"><title>2 + 3</title>\r\n",
       "<ellipse fill=\"none\" stroke=\"black\" cx=\"233\" cy=\"-162\" rx=\"29.795\" ry=\"18\"/>\r\n",
       "<text text-anchor=\"middle\" x=\"233\" y=\"-158.3\" font-family=\"Times New Roman,serif\" font-size=\"14.00\">2 + 3</text>\r\n",
       "</g>\r\n",
       "<!-- 1 + 2 + 3&#45;&gt;2 + 3 -->\r\n",
       "<g id=\"edge22\" class=\"edge\"><title>1 + 2 + 3&#45;&gt;2 + 3</title>\r\n",
       "<path fill=\"none\" stroke=\"black\" d=\"M139.959,-218.666C158.511,-207.566 184.285,-192.146 204.001,-180.35\"/>\r\n",
       "<polygon fill=\"black\" stroke=\"black\" points=\"205.802,-183.351 212.587,-175.213 202.208,-177.344 205.802,-183.351\"/>\r\n",
       "</g>\r\n",
       "<!-- 1.2&#45;&gt;1 + 2 -->\r\n",
       "<g id=\"edge17\" class=\"edge\"><title>1.2&#45;&gt;1 + 2</title>\r\n",
       "<path fill=\"none\" stroke=\"black\" d=\"M38.0966,-217.465C44.4162,-208.617 52.4737,-197.337 59.6148,-187.339\"/>\r\n",
       "<polygon fill=\"black\" stroke=\"black\" points=\"62.6234,-189.149 65.5877,-178.977 56.9273,-185.08 62.6234,-189.149\"/>\r\n",
       "</g>\r\n",
       "<!-- 1.3&#45;&gt;1 + 3 -->\r\n",
       "<g id=\"edge18\" class=\"edge\"><title>1.3&#45;&gt;1 + 3</title>\r\n",
       "<path fill=\"none\" stroke=\"black\" d=\"M193.903,-217.465C187.584,-208.617 179.526,-197.337 172.385,-187.339\"/>\r\n",
       "<polygon fill=\"black\" stroke=\"black\" points=\"175.073,-185.08 166.412,-178.977 169.377,-189.149 175.073,-185.08\"/>\r\n",
       "</g>\r\n",
       "<!-- 2.3&#45;&gt;2 + 3 -->\r\n",
       "<g id=\"edge19\" class=\"edge\"><title>2.3&#45;&gt;2 + 3</title>\r\n",
       "<path fill=\"none\" stroke=\"black\" d=\"M267.016,-217.116C261.58,-208.469 254.733,-197.575 248.609,-187.833\"/>\r\n",
       "<polygon fill=\"black\" stroke=\"black\" points=\"251.535,-185.911 243.25,-179.307 245.609,-189.636 251.535,-185.911\"/>\r\n",
       "</g>\r\n",
       "<!-- 1 -->\r\n",
       "<g id=\"node16\" class=\"node\"><title>1</title>\r\n",
       "<ellipse fill=\"none\" stroke=\"black\" cx=\"83\" cy=\"-90\" rx=\"27\" ry=\"18\"/>\r\n",
       "<text text-anchor=\"middle\" x=\"83\" y=\"-86.3\" font-family=\"Times New Roman,serif\" font-size=\"14.00\">1</text>\r\n",
       "</g>\r\n",
       "<!-- 1 + 2&#45;&gt;1 -->\r\n",
       "<g id=\"edge23\" class=\"edge\"><title>1 + 2&#45;&gt;1</title>\r\n",
       "<path fill=\"none\" stroke=\"black\" d=\"M78.4831,-143.697C79.1443,-135.983 79.9389,-126.712 80.6761,-118.112\"/>\r\n",
       "<polygon fill=\"black\" stroke=\"black\" points=\"84.167,-118.367 81.5339,-108.104 77.1926,-117.769 84.167,-118.367\"/>\r\n",
       "</g>\r\n",
       "<!-- 2 -->\r\n",
       "<g id=\"node17\" class=\"node\"><title>2</title>\r\n",
       "<ellipse fill=\"none\" stroke=\"black\" cx=\"155\" cy=\"-90\" rx=\"27\" ry=\"18\"/>\r\n",
       "<text text-anchor=\"middle\" x=\"155\" y=\"-86.3\" font-family=\"Times New Roman,serif\" font-size=\"14.00\">2</text>\r\n",
       "</g>\r\n",
       "<!-- 1 + 2&#45;&gt;2 -->\r\n",
       "<g id=\"edge24\" class=\"edge\"><title>1 + 2&#45;&gt;2</title>\r\n",
       "<path fill=\"none\" stroke=\"black\" d=\"M93.1617,-146.496C104.289,-136.51 119.247,-123.086 131.664,-111.942\"/>\r\n",
       "<polygon fill=\"black\" stroke=\"black\" points=\"134.287,-114.292 139.391,-105.008 129.611,-109.082 134.287,-114.292\"/>\r\n",
       "</g>\r\n",
       "<!-- 1 + 3&#45;&gt;1 -->\r\n",
       "<g id=\"edge25\" class=\"edge\"><title>1 + 3&#45;&gt;1</title>\r\n",
       "<path fill=\"none\" stroke=\"black\" d=\"M139.731,-146.155C129.669,-136.372 116.33,-123.404 105.114,-112.5\"/>\r\n",
       "<polygon fill=\"black\" stroke=\"black\" points=\"107.365,-109.806 97.7549,-105.345 102.485,-114.825 107.365,-109.806\"/>\r\n",
       "</g>\r\n",
       "<!-- 3 -->\r\n",
       "<g id=\"node18\" class=\"node\"><title>3</title>\r\n",
       "<ellipse fill=\"none\" stroke=\"black\" cx=\"227\" cy=\"-90\" rx=\"27\" ry=\"18\"/>\r\n",
       "<text text-anchor=\"middle\" x=\"227\" y=\"-86.3\" font-family=\"Times New Roman,serif\" font-size=\"14.00\">3</text>\r\n",
       "</g>\r\n",
       "<!-- 1 + 3&#45;&gt;3 -->\r\n",
       "<g id=\"edge26\" class=\"edge\"><title>1 + 3&#45;&gt;3</title>\r\n",
       "<path fill=\"none\" stroke=\"black\" d=\"M170.269,-146.155C180.331,-136.372 193.67,-123.404 204.886,-112.5\"/>\r\n",
       "<polygon fill=\"black\" stroke=\"black\" points=\"207.515,-114.825 212.245,-105.345 202.635,-109.806 207.515,-114.825\"/>\r\n",
       "</g>\r\n",
       "<!-- 2 + 3&#45;&gt;2 -->\r\n",
       "<g id=\"edge27\" class=\"edge\"><title>2 + 3&#45;&gt;2</title>\r\n",
       "<path fill=\"none\" stroke=\"black\" d=\"M216.838,-146.496C205.711,-136.51 190.753,-123.086 178.336,-111.942\"/>\r\n",
       "<polygon fill=\"black\" stroke=\"black\" points=\"180.389,-109.082 170.609,-105.008 175.713,-114.292 180.389,-109.082\"/>\r\n",
       "</g>\r\n",
       "<!-- 2 + 3&#45;&gt;3 -->\r\n",
       "<g id=\"edge28\" class=\"edge\"><title>2 + 3&#45;&gt;3</title>\r\n",
       "<path fill=\"none\" stroke=\"black\" d=\"M231.517,-143.697C230.856,-135.983 230.061,-126.712 229.324,-118.112\"/>\r\n",
       "<polygon fill=\"black\" stroke=\"black\" points=\"232.807,-117.769 228.466,-108.104 225.833,-118.367 232.807,-117.769\"/>\r\n",
       "</g>\r\n",
       "<!-- 0 -->\r\n",
       "<g id=\"node19\" class=\"node\"><title>0</title>\r\n",
       "<ellipse fill=\"none\" stroke=\"black\" cx=\"155\" cy=\"-18\" rx=\"27\" ry=\"18\"/>\r\n",
       "<text text-anchor=\"middle\" x=\"155\" y=\"-14.3\" font-family=\"Times New Roman,serif\" font-size=\"14.00\">0</text>\r\n",
       "</g>\r\n",
       "<!-- 1&#45;&gt;0 -->\r\n",
       "<g id=\"edge29\" class=\"edge\"><title>1&#45;&gt;0</title>\r\n",
       "<path fill=\"none\" stroke=\"black\" d=\"M97.5703,-74.8345C107.75,-64.9376 121.524,-51.5462 133.031,-40.3591\"/>\r\n",
       "<polygon fill=\"black\" stroke=\"black\" points=\"135.474,-42.865 140.204,-33.3847 130.595,-37.8461 135.474,-42.865\"/>\r\n",
       "</g>\r\n",
       "<!-- 2&#45;&gt;0 -->\r\n",
       "<g id=\"edge30\" class=\"edge\"><title>2&#45;&gt;0</title>\r\n",
       "<path fill=\"none\" stroke=\"black\" d=\"M155,-71.6966C155,-63.9827 155,-54.7125 155,-46.1124\"/>\r\n",
       "<polygon fill=\"black\" stroke=\"black\" points=\"158.5,-46.1043 155,-36.1043 151.5,-46.1044 158.5,-46.1043\"/>\r\n",
       "</g>\r\n",
       "<!-- 3&#45;&gt;0 -->\r\n",
       "<g id=\"edge31\" class=\"edge\"><title>3&#45;&gt;0</title>\r\n",
       "<path fill=\"none\" stroke=\"black\" d=\"M212.43,-74.8345C202.25,-64.9376 188.476,-51.5462 176.969,-40.3591\"/>\r\n",
       "<polygon fill=\"black\" stroke=\"black\" points=\"179.405,-37.8461 169.796,-33.3847 174.526,-42.865 179.405,-37.8461\"/>\r\n",
       "</g>\r\n",
       "</g>\r\n",
       "</svg>\r\n"
      ],
      "text/plain": [
       "<graphviz.dot.Digraph at 0x142bfa0ada0>"
      ]
     },
     "execution_count": 2,
     "metadata": {},
     "output_type": "execute_result"
    }
   ],
   "source": [
    "from graphviz import Digraph\n",
    "\n",
    "d = Digraph()\n",
    "\n",
    "d.edge('1.2.3', '1.2 + 1.3 + 2.3')\n",
    "\n",
    "d.edge('1.2 + 1.3 + 2.3', '1.2 + 1.3')\n",
    "d.edge('1.2 + 1.3 + 2.3', '1.2 + 2.3')\n",
    "d.edge('1.2 + 1.3 + 2.3', '1.3 + 2.3')\n",
    "\n",
    "d.edge('1.2 + 1.3', '1.2 + 3')\n",
    "d.edge('1.2 + 2.3', '1.2 + 3')\n",
    "\n",
    "d.edge('1.2 + 1.3', '1.3 + 2')\n",
    "d.edge('1.3 + 2.3', '1.3 + 2')\n",
    "\n",
    "d.edge('1.2 + 2.3', '2.3 + 1')\n",
    "d.edge('1.3 + 2.3', '2.3 + 1')\n",
    "\n",
    "d.edge('1.2 + 3', '1 + 2 + 3')\n",
    "d.edge('1.3 + 2', '1 + 2 + 3')\n",
    "d.edge('2.3 + 1', '1 + 2 + 3')\n",
    "\n",
    "d.edge('1.2 + 3', '1.2')\n",
    "d.edge('1.3 + 2', '1.3')\n",
    "d.edge('2.3 + 1', '2.3')\n",
    "\n",
    "d.edge('1.2', '1 + 2')\n",
    "d.edge('1.3', '1 + 3')\n",
    "d.edge('2.3', '2 + 3')\n",
    "\n",
    "d.edge('1 + 2 + 3', '1 + 2')\n",
    "d.edge('1 + 2 + 3', '1 + 3')\n",
    "d.edge('1 + 2 + 3', '2 + 3')\n",
    "\n",
    "d.edge('1 + 2', '1')\n",
    "d.edge('1 + 2', '2')\n",
    "d.edge('1 + 3', '1')\n",
    "d.edge('1 + 3', '3')\n",
    "d.edge('2 + 3', '2')\n",
    "d.edge('2 + 3', '3')\n",
    "\n",
    "d.edge('1', '0')\n",
    "d.edge('2', '0')\n",
    "d.edge('3', '0')\n",
    "\n",
    "d"
   ]
  },
  {
   "cell_type": "markdown",
   "metadata": {},
   "source": [
    "### 18.6 Fitting Log-Linear Models to Data"
   ]
  },
  {
   "cell_type": "markdown",
   "metadata": {},
   "source": [
    "Let $\\beta$ denote all the parameters in a log-linear model $M$.  The log-likelihood for $\\beta$ is:\n",
    "\n",
    "$$ \\ell(\\beta) = \\sum_j x_j \\log p_j(\\beta) $$\n",
    "\n",
    "where the sum is over the cells and $p(\\beta)$ denotes the cell probabilities corresponding to $\\beta$.  The MLE $\\hat{\\beta}$ generally has to be found numerically.  The model with all possible $\\psi$-terms is called the  **saturated models**.  We can also fit any **sub-model** which corresponds to setting some subset of $\\psi$ terms to 0."
   ]
  },
  {
   "cell_type": "markdown",
   "metadata": {},
   "source": [
    "For any submodel $M$, define the **deviance** $\\text{dev}(M)$ by\n",
    "\n",
    "$$ \\text{dev}(M) = 2 (\\hat{\\ell}_\\text{sat} - \\hat{\\ell}_M) $$\n",
    "\n",
    "where $\\ell_\\text{sat}$ is the log-likelihood of the saturated model evaluated at the MLE and $\\hat{\\ell}_M$ is the log-likelihood of the model $M$ evaluated at its MLE."
   ]
  },
  {
   "cell_type": "markdown",
   "metadata": {},
   "source": [
    "**Theorem 18.14**.  The deviance is the likelihood test statistic for\n",
    "\n",
    "$$\n",
    "H_0 : \\text{the model is } M\n",
    "\\quad \\text{versus} \\quad\n",
    "H_1 : \\text{the model is not } M\n",
    "$$\n",
    "\n",
    "Under $H_0$, $\\text{dev}(M) \\leadsto \\chi^2_\\nu$ with $\\nu$ degrees of freedom equal to the difference in the number of parameters between the saturated model and $M$."
   ]
  },
  {
   "cell_type": "markdown",
   "metadata": {},
   "source": [
    "One way to find a good model is to use the deviance to test every sub-model.  Every model that is not rejected by this test is then considered a plausible model.  However, this is not a good strategy for two reasons.  First, we will end up doing many tests, which means there is ample opportunity for making Type I and Type II errors.  Second, we will end up using models where we failed to reject $H_0$.  But we might fail to reject $H_0$ due to low power.  The result is that we end up with a bad model just due to low power."
   ]
  },
  {
   "cell_type": "markdown",
   "metadata": {},
   "source": [
    "There are many model searching strategies.  A common approach is to use some form of *penalized likelihood*.  One version of penalized is the AIC that we used in regression.  For any model $M$ define\n",
    "\n",
    "$$ \\text{AIC}(M) = -2 \\left( \\hat{\\ell}(M) - |M|\\right) $$\n",
    "\n",
    "where $|M|$ is the number of parameters."
   ]
  },
  {
   "cell_type": "markdown",
   "metadata": {},
   "source": [
    "Consider a set of models $\\{ M_1, M_2, \\dots \\}$.  Let $\\hat{f}_j(x)$ denote the estimated probability function obtained by using the maximum likelihood estimator of model $M_j$.  Thus, $\\hat{f}_j(x) = \\hat{f}(x; \\hat{\\beta}_j)$ where $\\hat{\\beta}_j$ is the MLE of the set of parameters $\\beta_j$ for model $M_j$.  We will use the loss function $D(f, \\hat{f})$ where\n",
    "\n",
    "$$ D(f, g) = \\sum_x f(x) \\log \\frac{f(x)}{g(x)} $$\n",
    "\n",
    "is the Kullback-Leibler distance between two probability functions.  The corresponding risk function is $R(f, \\hat{f}) = \\mathbb{E}(D(f, \\hat{f}))$.\n",
    "\n",
    "Notice that $D(f, \\hat{f})  = c - A(f, \\hat{f})$ where $c = \\sum_x f(x) \\log f(x)$ does not depend on $\\hat{f}$ and \n",
    "\n",
    "$$ A(f, \\hat{f}) = \\sum_x f(x) \\log \\hat{f}(x) $$\n",
    "\n",
    "Thus minimizing the risk is equivalent to minimizing $a(f, \\hat{f}) = \\mathbb{E}(A(f, \\hat{f}))$."
   ]
  },
  {
   "cell_type": "markdown",
   "metadata": {},
   "source": [
    "It is tempting to estimate $a(f, \\hat{f})$ by $\\sum_x \\log \\hat{f}(x)$ but, just as the training error in regression is highly biased estimate of prediction risk, it is also the case that $\\sum_x \\log \\hat{f}(x)$ is a highly biased estimate of $a(f, \\hat{f})$.  In fact, the bias is approximately equal to $|M_j|$.  Thus:"
   ]
  },
  {
   "cell_type": "markdown",
   "metadata": {},
   "source": [
    "**Theorem 18.15**.  $\\text{AIC}(M_j)$ is an approximately unbiased estimate of $a(f, \\hat{f})$."
   ]
  },
  {
   "cell_type": "markdown",
   "metadata": {},
   "source": [
    "After finding a \"best model\" this way we can draw the corresponding graph.  We can also check the overall fit of the selected model using the deviance as described above."
   ]
  },
  {
   "cell_type": "markdown",
   "metadata": {},
   "source": [
    "### 18.8 Exercises"
   ]
  },
  {
   "cell_type": "code",
   "execution_count": null,
   "metadata": {},
   "outputs": [],
   "source": []
  }
 ],
 "metadata": {
  "kernelspec": {
   "display_name": "Python 3",
   "language": "python",
   "name": "python3"
  },
  "language_info": {
   "codemirror_mode": {
    "name": "ipython",
    "version": 3
   },
   "file_extension": ".py",
   "mimetype": "text/x-python",
   "name": "python",
   "nbconvert_exporter": "python",
   "pygments_lexer": "ipython3",
   "version": "3.7.3"
  }
 },
 "nbformat": 4,
 "nbformat_minor": 2
}
