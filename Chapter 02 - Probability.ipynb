{
 "cells": [
  {
   "cell_type": "markdown",
   "metadata": {},
   "source": [
    "## 2. Probability"
   ]
  },
  {
   "cell_type": "markdown",
   "metadata": {},
   "source": [
    "### 2.2 Sample Spaces and Events"
   ]
  },
  {
   "cell_type": "markdown",
   "metadata": {},
   "source": [
    "The **sample space** $\\Omega$  is the set of possible outcomes of an experiment.  Points $\\omega$ in $\\Omega$ are called **sample outcomes** or **realizations**.  **Events** are subsets of $\\Omega$."
   ]
  },
  {
   "cell_type": "markdown",
   "metadata": {},
   "source": [
    "Given an event $A$, let $A^c = \\{ \\omega \\in \\Omega : \\text{not } (\\omega \\in A) \\}$ denote the complement of $A$.  The complement of $\\Omega$ is the empty set $\\varnothing$.  The union of events $A$ and $B$ is defined as $A \\cup B = \\{ \\omega \\in \\Omega : \\omega \\in A \\text{ or } \\omega \\in B \\}$.  If $A_1, A_2, \\dots$ is a sequence of sets, then\n",
    "\n",
    "$$ \\cup_{i=1}^\\infty A_i = \\left\\{ \\omega \\in \\Omega : \\omega \\in A_i \\text{ for some } i \\right\\}$$\n",
    "\n",
    "The intersection of $A$ and $B$ is $A \\cap B = \\{ \\omega \\in \\Omega : \\omega \\in A \\text{ and } \\omega \\in B \\}$.  If $A_1, A_2, \\dots$ is a sequence of sets then\n",
    "\n",
    "$$ \\cap_{i=1}^\\infty A_i = \\left\\{ \\omega \\in \\Omega : \\omega \\in A_i \\text{ for all } i \\right\\}$$\n",
    "\n",
    "Let $A - B = \\left\\{ \\omega \\in \\Omega : \\omega \\in A \\text{ and not } (\\omega \\in B) \\right\\}$.  If every element of $A$ is contained in $B$ we write $A \\subset B$ or $B \\supset A$.  If $A$ is a finite set, let $|A|$ denote the number of elements in $A$."
   ]
  },
  {
   "cell_type": "markdown",
   "metadata": {},
   "source": [
    "| notation           | meaning                                            |\n",
    "|--------------------|----------------------------------------------------|\n",
    "| $\\Omega$           | sample space                                       |\n",
    "| $\\omega$           | outcome                                            | \n",
    "| $A$                | event (subset of $\\Omega$)                         |\n",
    "| $|A|$              | number of elements in $A$ (if finite)              |\n",
    "| $A^c$              | complement of $A$ (not $A$)                        |\n",
    "| $A \\cup B$         | union ($A$ or $B$)                                 |\n",
    "| $A \\cap B$ or $AB$ | intersection ($A$ and $B$)                         |\n",
    "| $A - B$            | set difference (points in $A$ but not in $B$)      |\n",
    "| $A \\subset B$      | set inclusion ($A$ is a subset of or equal to $B$) |\n",
    "| $\\varnothing$      | null event (always false)                          |\n",
    "| $\\Omega$           | true event (always true)                           |"
   ]
  },
  {
   "cell_type": "markdown",
   "metadata": {},
   "source": [
    "We say that $A_1, A_2, \\dots$ are **disjoint** or **mutually exclusive** if $A_i \\cap A_j = \\varnothing$ whenever $i \\neq j$.  A **partition** of $\\Omega$ is a sequence of disjoint sets $A_1, A_2, \\dots$ such that $\\cup_{i=1}^\\infty A_i = \\Omega$.  Given an event $A$, define the **indicator function of $A$** by\n",
    "\n",
    "$$ I_A(\\omega) = I(\\omega \\in A) = \\begin{cases}\n",
    "1 &\\text{if } \\omega \\in A \\\\\n",
    "0 &\\text{otherwise}\n",
    "\\end{cases}$$\n",
    "\n",
    "A sequence of sets $A_1, A_2, \\dots$ is **monotone increasing** if $A_1 \\subset A_2 \\subset \\dots$, and we define $\\lim_{n \\rightarrow \\infty} A_n = \\cup_{i=1}^\\infty A_i$.  A sequence of sets $A_1, A_2, \\dots$ is **monotone decreasing** if $A_1 \\supset A_2 \\supset \\dots$ and then we define $\\lim_{n \\rightarrow \\infty} A_n = \\cap_{i=1}^n A_i$.  In either case, we will write $A_n \\rightarrow A$."
   ]
  },
  {
   "cell_type": "markdown",
   "metadata": {},
   "source": [
    "### 2.3 Probability"
   ]
  },
  {
   "cell_type": "markdown",
   "metadata": {},
   "source": [
    "A function $\\mathbb{P}$ that assign a real number $\\mathbb{P}(A)$ to each event $A$  is a **probability distribution** or a **probability measure** if it satisfies the following three axioms:\n",
    "\n",
    "- **Axiom 1**: $\\mathbb{P}(A) \\geq 0$ for every $A$\n",
    "- **Axiom 2**: $\\mathbb{P}(\\Omega) = 1$\n",
    "- **Axiom 3**: If $A_1, A_2, \\dots$ are disjoint then\n",
    "\n",
    "$$ \\mathbb{P} \\left( \\cup_{i=1}^\\infty A_i \\right) = \\sum_{i=1}^\\infty \\mathbb{P}(A_i) $$"
   ]
  },
  {
   "cell_type": "markdown",
   "metadata": {},
   "source": [
    "A few properties that can be derived from the axioms:\n",
    "\n",
    "- $\\mathbb{P}(\\varnothing) = 0$\n",
    "- $A \\subset B \\Rightarrow \\mathbb{P}(A) \\leq \\mathbb{P}(B)$\n",
    "- $0 \\leq \\mathbb{P}(A) \\leq 1$\n",
    "- $\\mathbb{P}\\left(A^c\\right) = 1 - \\mathbb{P}(A)$\n",
    "- $A \\cap B = \\varnothing \\Rightarrow \\mathbb{P}(A \\cup B) = \\mathbb{P}(A) + \\mathbb{P}(B)$"
   ]
  },
  {
   "cell_type": "markdown",
   "metadata": {},
   "source": [
    "**Lemma 2.6**.  For any events $A$ and $B$, $\\mathbb{P}(A \\cup B) = \\mathbb{P}(A) + \\mathbb(B) - \\mathbb{P}(AB)$."
   ]
  },
  {
   "cell_type": "markdown",
   "metadata": {},
   "source": [
    "**Proof**. \n",
    "\n",
    "$$\n",
    "\\begin{align}\n",
    "\\mathbb{P}(A \\cup B) &= \\mathbb{P}\\left( (AB^c) \\cup (AB) \\cup (A^cB) \\right) \\\\\n",
    "&= \\mathbb{P}(AB^c) + \\mathbb{P}(AB) + \\mathbb{P}(A^cB) \\\\\n",
    "&= \\mathbb{P}(AB^c) + \\mathbb{P}(AB) + \\mathbb{P}(A^cB) + \\mathbb{P}(AB) - \\mathbb{P}(AB) \\\\\n",
    "&= \\mathbb{P}((AB^c) \\cup (AB)) + \\mathbb{P}((A^cB) \\cup (AB)) - \\mathbb{P}(AB) \\\\\n",
    "&= \\mathbb{P}(A) + \\mathbb{P}(B) - \\mathbb{P}(AB)\n",
    "\\end{align}\n",
    "$$"
   ]
  },
  {
   "cell_type": "markdown",
   "metadata": {},
   "source": [
    "**Theorem 2.8 (Continuity of Probabilities)**.  If $A_n \\rightarrow A$ then $\\mathbb{P}(A_n) \\rightarrow \\mathbb{P}(A)$ as $n \\rightarrow \\infty$."
   ]
  },
  {
   "cell_type": "markdown",
   "metadata": {},
   "source": [
    "**Proof**.  Suppose that $A_n$ is monotone increasing, $A_1 \\subset A_2 \\subset \\dots$.  Let $B_1 = A_1$, and $B_{n+1} = A_{n+1} - A_n$ for $n > 1$.   The $B_i$'s are disjoint by construction, and $A_n = \\cup_{i=1}^n A_i = \\cup_{i=1}^n B_i$ for all $n$.  From axiom 3,\n",
    "\n",
    "$$ \\mathbb{P}(A_n) = \\mathbb{P}\\left( \\cup_{i=1}^n B_i \\right)  = \\sum_{i=1}^n \\mathbb{P}(B_i) $$\n",
    "\n",
    "and so\n",
    "\n",
    "$$ \\lim_{n \\rightarrow \\infty} \\mathbb{P}(A_n) = \\lim_{n \\rightarrow \\infty} \\sum_{i=1}^n \\mathbb{P}(B_n) = \\sum_{i=1}^\\infty \\mathbb{P}(B_n) = \\mathbb{P}\\left( \\cup_{i=1}^\\infty B_i \\right) = \\mathbb{P}(A) $$"
   ]
  },
  {
   "cell_type": "markdown",
   "metadata": {},
   "source": [
    "### 2.4 Probability on Finite Sample Spaces"
   ]
  },
  {
   "cell_type": "markdown",
   "metadata": {},
   "source": [
    "If $\\Omega$ is finite and each outcome is equally likely, then \n",
    "\n",
    "$$ \\mathbb{P}(A) = \\frac{|A|}{|\\Omega|} $$\n",
    "\n",
    "which is called the **uniform probability distribution**.\n",
    "\n",
    "We will need a few facts from counting theory later.  \n",
    "\n",
    "- Given $n$ objects, the number of way or ordering these objects is $n! = n \\cdot (n - 1) \\cdot (n - 2) \\cdots 3 \\cdot 2 \\cdot 1$.  We define $0! = 1$.\n",
    "- We define\n",
    "\n",
    "  $$ \\binom{n}{k} = \\frac{n!}{k! (n - k)!} $$\n",
    "\n",
    "  read \"n choose k\", which is the number of different ways of choosing $k$ objects from $n$.\n",
    "  \n",
    "- Note that choosing a subset $k$ objects can be mapped to choosing the complement set of $n - k$ objects, so\n",
    "\n",
    "  $$ \\binom{n}{k} = \\binom{n}{n - k} $$\n",
    " \n",
    "  and that there is only one way of choosing the empty set, so\n",
    "  \n",
    "  $$ \\binom{n}{0} = \\binom{n}{n} = 1$$"
   ]
  },
  {
   "cell_type": "markdown",
   "metadata": {},
   "source": [
    "### 2.5 Independent Events"
   ]
  },
  {
   "cell_type": "markdown",
   "metadata": {},
   "source": [
    "- Two events $A$ and $B$ are **independent** if\n",
    "\n",
    "    $$ \\mathbb{P}(AB) = \\mathbb{P}(A) \\mathbb{P}(B) $$\n",
    "\n",
    "    and we write $A \\text{ ⫫ } B$.  A set of events $\\{ A_i : i \\in I \\}$ is independent if\n",
    "\n",
    "    $$ \\mathbb{P} \\left( \\cap_{i \\in J} A_i \\right) = \\prod_{i \\in J} \\mathbb{P}(A_i) $$\n",
    "\n",
    "    for every finite subset $J$ of $I$.\n",
    "\n",
    "- Independence is sometimes assumed and sometimes derived.\n",
    "- Disjoint events with positive probability are not independent."
   ]
  },
  {
   "cell_type": "markdown",
   "metadata": {},
   "source": [
    "### 2.6 Conditional Probability"
   ]
  },
  {
   "cell_type": "markdown",
   "metadata": {},
   "source": [
    "- If $\\mathbb{P}(B) > 0$ then the **conditional probability** of $A$ given $B$ is\n",
    "\n",
    "  $$ \\mathbb{P}(A | B) = \\frac{\\mathbb{P}(AB)}{\\mathbb{P}(B)} $$\n",
    "  \n",
    "- $\\mathbb{P}(\\cdot | B)$ satisfies the axioms of probability, for fixed $B$.  In general, $\\mathbb{P}(A | \\cdot)$ does **not** satisfies the axioms of probability for fixed $A$.\n",
    "\n",
    "- In general, $\\mathbb{P}(B | A) \\neq \\mathbb{P}(A | B)$.\n",
    "- $A$ and $B$ are independent if and only if $\\mathbb{P}(A | B) = \\mathbb{P}(A)$."
   ]
  },
  {
   "cell_type": "markdown",
   "metadata": {},
   "source": [
    "### 2.7 Bayes' Theorem"
   ]
  },
  {
   "cell_type": "markdown",
   "metadata": {},
   "source": [
    "**Theorem 2.15 (The Law of Total Probability)**.  Let $A_1, \\dots, A_k$ be a partition of $\\Omega$.  Then, for any event $B$,\n",
    "\n",
    "$$ \\mathbb{P}(B) = \\sum_{i=1}^k \\mathbb{P}(B | A_i) \\mathbb{P}(A_i) $$"
   ]
  },
  {
   "cell_type": "markdown",
   "metadata": {},
   "source": [
    "**Proof**.  Let $C_j = BA_j$.  Note that the $C_j$'s are disjoint and that $B = \\cup_{i=1}^k C_j$.  Hence\n",
    "\n",
    "$$ \\mathbb{P}(B) = \\sum_j \\mathbb{P}(C_j)  = \\sum_j \\mathbb{P}(BA_j) = \\sum_j \\mathbb{P}(B | A_j) \\mathbb{P}(A_j) $$"
   ]
  },
  {
   "cell_type": "markdown",
   "metadata": {},
   "source": [
    "**Theorem 2.16 (Bayes' Theorem)**.  Let $A_1, \\dots, A_k$ be a partition of $\\Omega$ such that $\\mathbb{P}(A_i) > 0$ for each $i$.  If $\\mathbb{P}(B) > 0$, then, for each $i = 1, \\dots, k$,\n",
    "\n",
    "$$ \\mathbb{P}(A_i | B) = \\frac{\\mathbb{P}(B | A_i) \\mathbb{P}(A_i)}{\\sum_j \\mathbb{P}(B | A_j) \\mathbb{P}(A_j)} $$\n",
    "\n",
    "We call $\\mathbb{P}(A_i)$ the **prior probability** of $A_i$ and $\\mathbb{P}(A_i | B)$ the **posterior probability** of $A_i$."
   ]
  },
  {
   "cell_type": "markdown",
   "metadata": {},
   "source": [
    "**Proof**.  We apply the definition of conditional probability twice, followed by the law of total probability:\n",
    "\n",
    "$$ \\mathbb{P}(A_i | B) = \\frac{\\mathbb{P}(A_i B) }{\\mathbb{P}(B)} = \\frac{\\mathbb{P}(B | A_i) \\mathbb{P}(A_i)}{\\mathbb{P}(B)} = \\frac{\\mathbb{P}(B | A_i) \\mathbb{P}(A_i)}{\\sum_j \\mathbb{P}(B | A_j) \\mathbb{P}(A_j)}$$"
   ]
  },
  {
   "cell_type": "markdown",
   "metadata": {},
   "source": [
    "### 2.9 Technical Appendix"
   ]
  },
  {
   "cell_type": "markdown",
   "metadata": {},
   "source": [
    "Generally, it is not feasible to assign probabilities to all the subsets of a sample space $\\Omega$.  Instead, one restricts attention to a set of events called a **$\\sigma$-algebra** or a **$\\sigma$-field**, which is a class $\\mathcal{A}$ that satisfies:\n",
    "\n",
    "- $\\varnothing \\in \\mathcal{A}$\n",
    "- If $A_1, A_2, \\dots \\in \\mathcal{A}$, then $\\cup_{i=1}^\\infty A_i \\in \\mathcal{A}$\n",
    "- $A \\in \\mathcal{A}$ implies that $A^c \\in \\mathcal{A}$\n",
    "\n",
    "The sets in $\\mathcal{A}$ are said to be **measurable**.  We call $(\\Omega, \\mathcal{A})$ a **measurable space**.  If $\\mathbb{P}$ is a probability measure defined in $\\mathcal{A}$ then $(\\Omega, \\mathcal{A}, \\mathbb{P})$ is a **probability space**.  When $\\Omega$ is the real line, we take $\\mathcal{A}$ to be the smallest $\\sigma$-field that contains all off the open sets, which is called the **Borel $\\sigma$-field**."
   ]
  },
  {
   "cell_type": "markdown",
   "metadata": {},
   "source": [
    "### 2.10 Exercises"
   ]
  },
  {
   "cell_type": "markdown",
   "metadata": {},
   "source": [
    "**Exercise 2.10.1**.  Fill in the details in the proof of Theorem 2.8.  Also, prove the monotone decreasing case.\n",
    "\n",
    "If $A_n \\rightarrow A$ then $\\mathbb{P}(A_n) \\rightarrow \\mathbb{P}(A)$ as $n \\rightarrow \\infty$."
   ]
  },
  {
   "cell_type": "markdown",
   "metadata": {},
   "source": [
    "**Solution**.  \n",
    "\n",
    "Suppose that $A_n$ is monotone increasing, $A_1 \\subset A_2 \\subset \\dots$.  Let $B_1 = A_1$, and $B_{i+1} = A_{i+1} - A_i$ for $i > 1$.   \n",
    "\n",
    "The $B_i$'s are disjoint by construction: assuming without loss of generality $i < j$,  $\\omega \\in B_i \\cap B_j$ implies that $\\omega$ is in $A_j$, $A_i$, but not in $A_{j - 1}$, $A_{i - 1}$, where $A_0 = \\varnothing$.  In particular, this means that $\\omega \\in A_{i}$ but not $\\omega \\in A_{j - 1}$.  Since $A_i \\subset A_{j - 1}$, this implies that no such $\\omega$ can satisfy those properties, and so $B_i$ and $B_j$ are disjoint.\n",
    "\n",
    "Note that $A_n = \\cup_{i=1}^n A_i = \\cup_{i=1}^n B_i$ for all $n$:\n",
    "\n",
    "$$ \\cup_{i=1}^n B_i = \\cup_{i=1}^n (A_i - A_{i - 1}) \\subset \\cup_{i=1}^n A_i = A_n $$\n",
    "\n",
    "Also note that $A_n \\subset \\cup_{i=1}^n B_i$, since, if $f(\\omega) = \\min \\{ k : \\omega \\in A_k \\}$, then $\\omega \\in B_{f(\\omega)}$, so all elements of $A_n$ are in some $B_k$.\n",
    "\n",
    "The proof follows as given; from axiom 3,\n",
    "\n",
    "$$ \\mathbb{P}(A_n) = \\mathbb{P}\\left( \\cup_{i=1}^n B_i \\right) = \\sum_{i=1}^n \\mathbb{P}(B_i) $$\n",
    "\n",
    "and so\n",
    "\n",
    "$$ \\lim_{n \\rightarrow \\infty} \\mathbb{P}(A_n) = \\lim_{n \\rightarrow \\infty} \\sum_{i=1}^n \\mathbb{P}(B_n) = \\sum_{i=1}^\\infty \\mathbb{P}(B_n) = \\mathbb{P}\\left( \\cup_{i=1}^\\infty B_i \\right) = \\mathbb{P}(A) $$\n",
    "\n",
    "The monotone decreasing case can be obtained by looking at the complementary series $A_1^c, A_2^c, \\dots$,which is monotone increasing.  We get\n",
    "\n",
    "$$ \n",
    "\\begin{align}\n",
    "\\lim_{n \\rightarrow \\infty} \\mathbb{P}(A_n^c) &= \\mathbb{P}(A^c) \\\\\n",
    "\\lim_{n \\rightarrow \\infty} 1 - \\mathbb{P}(A_n^c) &= 1 - \\mathbb{P}(A^c) \\\\\n",
    "\\lim_{n \\rightarrow \\infty} \\mathbb{P}(A_n) &= 1 - \\mathbb{P}(A)\n",
    "\\end{align}\n",
    "$$\n"
   ]
  },
  {
   "cell_type": "markdown",
   "metadata": {},
   "source": [
    "**Exercise 2.10.2**.  Prove the statements in equation (2.1).\n",
    "\n",
    "- $\\mathbb{P}(\\varnothing) = 0$\n",
    "- $A \\subset B \\Rightarrow \\mathbb{P}(A) \\leq \\mathbb{P}(B)$\n",
    "- $0 \\leq \\mathbb{P}(A) \\leq 1$\n",
    "- $\\mathbb{P}\\left(A^c\\right) = 1 - \\mathbb{P}(A)$\n",
    "- $A \\cap B = \\varnothing \\Rightarrow \\mathbb{P}(A \\cup B) = \\mathbb{P}(A) + \\mathbb{P}(B)$"
   ]
  },
  {
   "cell_type": "markdown",
   "metadata": {},
   "source": [
    "**Solution**.\n",
    "\n",
    "- By partitioning the event space $\\Omega$ into disjoint partitions $(\\Omega, \\varnothing)$ we get\n",
    "\n",
    "  $$ \\mathbb{P}(\\Omega) + \\mathbb{P}(\\varnothing) = \\mathbb{P}(\\Omega) \\Rightarrow \\mathbb{P}(\\varnothing) = 0 $$\n",
    "  \n",
    "- Assuming $A \\subset B$ and partitioning $B$ as $(A, B - A)$, we get\n",
    "\n",
    "  $$ \\mathbb{P}(A) + \\mathbb{P}(B - A) = \\mathbb{P}(B) \\Rightarrow \\mathbb{P}(A) \\leq \\mathbb{P}(B) $$\n",
    "  \n",
    "- $\\mathbb{P}(A) \\geq 0$ from axiom 1.  By partitioning $\\Omega$ as $(A, A^c)$, we get\n",
    "\n",
    "  $$ \\mathbb{P}(A) + \\mathbb{P}(A^c) = \\mathbb{P}(\\Omega) = 1 \\Rightarrow \\mathbb{P}(A) \\leq 1 $$\n",
    "  \n",
    "- By partitioning $\\Omega$ as $(A, A^c)$, we get\n",
    "\n",
    "  $$ \\mathbb{P}(A) + \\mathbb{P}(A^c) = \\mathbb{P}(\\Omega) = 1 \\Rightarrow \\mathbb{P}(A) = 1 - \\mathbb{P}(A^c) $$\n",
    "  \n",
    "- Assuming $A$, $B$ are disjoint, we partition $A \\cup B$ in $(A, B)$ and get:\n",
    "\n",
    "  $$ \\mathbb{P}(A \\cup B) = \\mathbb{P}(A) + \\mathbb{P}(C) $$"
   ]
  },
  {
   "cell_type": "markdown",
   "metadata": {},
   "source": [
    "**Exercise 2.10.3**.  Let $\\Omega$ be a sample space and let $A_1, A_2, \\dots$ be events.  Define $B_n = \\cup_{i=n}^\\infty A_i$ and $C_n = \\cap_{i=n}^\\infty A_i$\n",
    "\n",
    "**(a)** Show that $B_1 \\supset B_2 \\supset \\cdots$ and $C_1 \\subset C_2 \\subset \\cdots$.\n",
    "\n",
    "**(b)** Show that $\\omega \\in \\cap_{n = 1}^\\infty B_n$ if and only if $\\omega$ belongs to an infinite number of the events $A_1, A_2, \\dots$.\n",
    "\n",
    "**(c)** Show that $\\omega \\in \\cup_{n = 1}^\\infty C_n$ if and only if $\\omega$ belongs to all of the events $A_1, A_2, \\dots$ except possibly a finite number of those events."
   ]
  },
  {
   "cell_type": "markdown",
   "metadata": {},
   "source": [
    "**Solution**.\n",
    "\n",
    "**(a)**  By construction, $B_{n+1} = A_n \\cup B_n$ and so $B_{n + 1} \\supset B_n$.  Similarly, $C_{n+1} = A_n \\cap C_n$ and so $C_{n + 1} \\subset C_n$."
   ]
  },
  {
   "cell_type": "markdown",
   "metadata": {},
   "source": [
    "**(b)**\n",
    "\n",
    "- Assume $\\omega$ belongs to an infinite number of the events, $\\omega \\in A_j$ for $j \\in J(\\omega)$.  Then, for every $n$, there is a $m \\geq n$ such that $m \\in J(\\omega)$, and so $\\omega \\in B_n$ for every $n$.  This implies that $\\omega \\in \\cap_{n = 1}^\\infty B_n$.\n",
    "\n",
    "- Assume that $\\omega \\in \\cap_{n = 1}^\\infty B_n$.  Then, for every $n$, $\\omega \\in B_n$, so for every $n$ there is a $m \\geq n$ such that $\\omega \\in A_m$.  This implies there is an infinite number of such events $A_m$."
   ]
  },
  {
   "cell_type": "markdown",
   "metadata": {},
   "source": [
    "**(c)** \n",
    "\n",
    "Let's prove the contrapositive.  \n",
    "\n",
    "- Assume that $\\omega$ does not belong to an infinite number of events $A_i$.  Then, for every $n$, there is a $m \\geq$ such that $\\omega \\in A_m^c$, and so $\\omega$ is not in $C_n$.  Since $\\omega$ is not in none of the $C_n$'s, it is not in the union of all $C_n$'s either. \n",
    "- Assume that $\\omega$ is not in the union of all $C_n$.  This implies that $\\omega$ is is not in any event $C_n$.  This implies that, for every $n$, there is a $m \\geq n$ such that $\\omega$ is not in $A_m$.  This implies that there is an infinite number of such events $A_m$."
   ]
  },
  {
   "cell_type": "markdown",
   "metadata": {},
   "source": [
    "**Exercise 2.10.4**.  Let $\\{ A_i : i \\in I \\}$ be a collection of events where $I$ is an arbitrary index set.  Show that\n",
    "\n",
    "$$ \\\n",
    "\\left( \\cup_{i \\in I} A_i \\right)^c = \\cap_{i \\in I} A_i^c \n",
    "\\quad \\text{and} \\quad\n",
    "\\left( \\cap_{i \\in I} A_i \\right)^c = \\cup_{i \\in I} A_i^c \n",
    "$$\n",
    "\n",
    "Hint: First prove this for $I = \\{1, \\dots, n\\}$."
   ]
  },
  {
   "cell_type": "markdown",
   "metadata": {},
   "source": [
    "**Solution**.\n",
    "\n",
    "We can prove the result directly by noting that every outcome $\\omega$ belongs to or does not belong to both sides of each equality:\n",
    "\n",
    "$$ \n",
    "\\begin{align}\n",
    "& \\omega \\in \\left( \\cup_{i \\in I} A_i \\right)^c \\\\\n",
    "\\Longleftrightarrow& \\; \\text{not }\\left( \\omega \\in \\cup_{i \\in I} A_i  \\right) \\\\\n",
    "\\Longleftrightarrow& \\; \\forall i \\in I, \\text{not} \\left( \\omega \\in A_i \\right) \\\\\n",
    "\\Longleftrightarrow& \\; \\forall i \\in I, \\omega \\in A_i^c \\\\\n",
    "\\Longleftrightarrow& \\; \\omega \\in \\cap_{i \\in I} A_i^c\n",
    "\\end{align}\n",
    "$$\n",
    "\n",
    "and\n",
    "\n",
    "$$\n",
    "\\begin{align}\n",
    "& \\omega \\in \\left( \\cap_{i \\in I} A_i \\right)^c  \\\\\n",
    "\\Longleftrightarrow&\\; \\text{not }\\left( \\omega \\in \\cap_{i \\in I} A_i  \\right) \\\\\n",
    "\\Longleftrightarrow&\\; \\text{not } \\left( \\forall i \\in I, \\omega \\in A_i \\right) \\\\\n",
    "\\Longleftrightarrow&\\; \\exists i \\in I, \\text{not } \\omega \\in A_i \\\\\n",
    "\\Longleftrightarrow&\\; \\exists i \\in I, \\omega \\in A_i^c \\\\\n",
    "\\Longleftrightarrow&\\; \\omega \\in \\cup_{i \\in I} A_i^c \n",
    "\\end{align}\n",
    "$$"
   ]
  },
  {
   "cell_type": "markdown",
   "metadata": {},
   "source": [
    "**Exercise 2.10.5**.  Suppose we toss a fair coin until we get exactly two heads.  Describe the sample space $S$.  What is the probability that exactly $k$ tosses are required?"
   ]
  },
  {
   "cell_type": "markdown",
   "metadata": {},
   "source": [
    "**Solution**.  The sample space is a set of coin toss results sequences containing two heads, and ending in heads:\n",
    "\n",
    "$$ S = \\left\\{ (r_1, \\dots, r_k) : r_i \\in \\left\\{ \\text{head}, \\text{tails} \\right\\} , \n",
    "\\Big| \\left\\{ r_j = \\text{head} \\right\\} \\Big|= 2, r_k = \\text{head} \\right\\} $$\n",
    "\n",
    "The probability of requiring exactly $k$ tosses is 0 if $k < 2$, as there are no such sequences in the event space.\n",
    "\n",
    "The probability of stopping after $k$ tosses is the probability of obtaining exactly 1 head in the first $k - 1$ tosses, in a procedure that would not stop after any number of tosses, followed by the probability of getting a head in the $k$-th toss.  This value is\n",
    "\n",
    "$$ \\left((k-1) \\left(\\frac{1}{2}\\right)^{k - 1} \\right) \\left(\\frac{1}{2}\\right) = \\frac{k - 1}{2^k}$$\n",
    "\n",
    "Note that, besides this combinatorial argument, we can verify that these probabilities do indeed add up to 1:\n",
    "\n",
    "$$\n",
    "\\begin{align}\n",
    "\\frac{1}{1 - x} &= \\sum_{k = 0}^\\infty x^k \\\\\n",
    "\\frac{d}{dx} \\frac{1}{1 - x} &= \\sum_{k = 0}^\\infty \\frac{d}{dx} x^k \\\\\n",
    "\\frac{1}{(1 - x)^2} &= \\sum_{k = 0}^\\infty k x^{k - 1} \\\\\n",
    "\\frac{x}{(1 - x)^2} &= \\sum_{k = 0}^\\infty k x^k \n",
    "\\end{align}\n",
    "$$\n",
    "\n",
    "so, for $x = 1/2$, $\\sum_{k = 0}^\\infty 2^{-k} k = 2$, and so\n",
    "\n",
    "$$ \\sum_{k = 0}^\\infty \\frac{k}{2^{k + 1}} = 1 $$"
   ]
  },
  {
   "cell_type": "code",
   "execution_count": null,
   "metadata": {},
   "outputs": [],
   "source": []
  }
 ],
 "metadata": {
  "kernelspec": {
   "display_name": "Python 3",
   "language": "python",
   "name": "python3"
  },
  "language_info": {
   "codemirror_mode": {
    "name": "ipython",
    "version": 3
   },
   "file_extension": ".py",
   "mimetype": "text/x-python",
   "name": "python",
   "nbconvert_exporter": "python",
   "pygments_lexer": "ipython3",
   "version": "3.7.3"
  }
 },
 "nbformat": 4,
 "nbformat_minor": 2
}
