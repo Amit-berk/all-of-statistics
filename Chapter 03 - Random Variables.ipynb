{
 "cells": [
  {
   "cell_type": "markdown",
   "metadata": {},
   "source": [
    "## 3. Random Variables"
   ]
  },
  {
   "cell_type": "markdown",
   "metadata": {},
   "source": [
    "### 3.1 Introduction"
   ]
  },
  {
   "cell_type": "markdown",
   "metadata": {},
   "source": [
    "A **random variable** is a mapping $X : \\Omega \\rightarrow \\mathbb{R}$ that assigns a real number $X(\\omega)$ to each outcome $\\omega$.\n",
    "\n",
    "*Technically, a random variable must be measurable.  See the technical appendix for details.*\n",
    "\n",
    "Given a random variable $X$ and a subset $A$ of the real line, define $X^{-1}(A) = \\{ \\omega \\in \\Omega : X(\\omega) \\in A \\}$ and let\n",
    "\n",
    "$$\n",
    "\\begin{align}\n",
    "\\mathbb{P}(X \\in A) = \\mathbb{P}(X^{-1}(A)) &= \\mathbb{P}(\\{ \\omega \\in \\Omega; X(\\omega) \\in A \\}) \\\\\n",
    "\\mathbb{P}(X = x) = \\mathbb{P}(X^{-1}(x)) &= \\mathbb{P}(\\{ \\omega \\in \\Omega; X(\\omega) = x \\} )\n",
    "\\end{align}\n",
    "$$\n",
    "\n",
    "$X$ denotes a random variable and $x$ denotes a possible value of $X$."
   ]
  },
  {
   "cell_type": "markdown",
   "metadata": {},
   "source": [
    "### 3.2 Distribution Functions and Probability Functions"
   ]
  },
  {
   "cell_type": "markdown",
   "metadata": {},
   "source": [
    "The **cumulative distribution function**, CDF, $F_X : \\mathbb{R} \\rightarrow [0, 1]$ of a random variable $X$ is defined by\n",
    "\n",
    "$$ F_X(x) = \\mathbb{P}(X \\leq x) $$\n",
    "\n",
    "The following result shows that the CDF completely determines the distribution of a random variable."
   ]
  },
  {
   "cell_type": "markdown",
   "metadata": {},
   "source": [
    "**Theorem 3.7**.  Let $X$ have CDF $F$ and let $Y$ have CDF $G$.  If $F(x) = G(x)$ for all $x$ then $\\mathbb{P}(X \\in A) = \\mathbb{P}(Y \\in A)$ for all $A$.\n",
    "\n",
    "*Technically, we only have that $\\mathbb{P}(X \\in A) = \\mathbb{P}(Y \\in A)$ for every measurable event $A$.*"
   ]
  },
  {
   "cell_type": "markdown",
   "metadata": {},
   "source": [
    "**Theorem 3.8**.  A function $F$ mapping the real line to $[0, 1]$ is a CDF for some probability measure $\\mathbb{P}$ if and only if if satisfies the following three conditions:\n",
    "\n",
    "  - $F$ is non-decreasing, i.e. $x_1 < x_2$ implies that $F(x_1) \\leq F(x_2)$.\n",
    "  - $F$ is normalized: $\\lim_{n \\rightarrow -\\infty} F(x) = 0$ and $\\lim_{n \\rightarrow +\\infty} F(x) = 1$.\n",
    "  - $F$ is right-continuous, i.e. $F(x) = F(x^+)$ for all $x$, where\n",
    "  \n",
    "  $$ F(x^+) = \\lim_{y \\rightarrow x, y > x} F(y) $$"
   ]
  },
  {
   "cell_type": "markdown",
   "metadata": {},
   "source": [
    "**Proof**.  Suppose that $F$ is a CDF.  Let us show that $F$ is right-continuous.  Let $x$ be a real number and let $y_1, y_2, \\dots$ be a sequence of real numbers such that $y_1 > y_2 > \\dots$ and $\\lim_i y_i = x$.  Let $A_i = (-\\infty, y_i]$ and let $A = (-\\infty, x]$.  Note that $A = \\cap_{i=1}^\\infty A_i$ and also note that $A_1 \\supset A_2 \\supset \\cdots$.  Because the events are monotone, $\\lim_i \\mathbb{P}(A_i) = \\mathbb{P}(\\cap_i A_i)$.  Thus,\n",
    "\n",
    "$$ F(x) = \\mathbb{P}(A) = \\mathbb{P}(\\cap_i A_i) = \\lim_i \\mathbb{P}(A_i) = \\lim_i F(y_i) = F(x^+) $$\n",
    "\n",
    "Showing that $F$ is non-decreasing and is normalized is similar.  Proving the other direction, that is that $F$ is non-decreasing, normalized, and right-continuous then it is a CDF for some random variable, uses some deep tools in analysis."
   ]
  },
  {
   "cell_type": "markdown",
   "metadata": {},
   "source": [
    "$X$ is **discrete** if it takes countably many values\n",
    "\n",
    "$$ \\{ x_1, x_2, \\dots \\} $$\n",
    "\n",
    "We define the **probability density function** or **probability mass function** for $X$ by\n",
    "\n",
    "$$ f_X(x) = \\mathbb{P}(X = x) $$\n",
    "\n",
    "*A set is countable if it is finite or if it can be put in a one-to-one correspondence with the integers.*"
   ]
  },
  {
   "cell_type": "markdown",
   "metadata": {},
   "source": [
    "Thus, $f_X(x) \\geq 0$ for all $x \\in \\mathbb{R}$ and $\\sum_i f_X(x_i) = 1$.  The CDF of $X$ is related to the PDF by\n",
    "\n",
    "$$ F_X(x) = \\mathbb{P}(X \\leq x) = \\sum_{x_i \\leq x} f_X(x_i) $$\n",
    "\n",
    "Sometimes we write $f_X$ and $F_X$ simply as $f$ and $F$."
   ]
  },
  {
   "cell_type": "markdown",
   "metadata": {},
   "source": [
    "A random variable $X$ is **continuous** if there exists a function $f_X$ such that $f_X(x) \\geq 0$ for all $x$, $\\int_{-\\infty}^\\infty f_X(x) dx = 1$, and for every $a \\leq b$,\n",
    "\n",
    "$$ \\mathbb{P}(a < X < b) = \\int_a^b f_X(x) dx $$\n",
    "  \n",
    "The function $f_X$ is called the **probability density function**.  We have that\n",
    "\n",
    "$$ F_X(x) = \\int_{-\\infty}^x f_X(t) dt $$\n",
    "\n",
    "and $f_X(x) = F'_X(x)$ at all points $x$ at which $F_X$ is differentiable.\n",
    "\n",
    "Sometimes we shall write $\\int f(x) dx$ or simply $\\int f$ to mean $\\int_{-\\infty}^\\infty f(x) dx$."
   ]
  },
  {
   "cell_type": "markdown",
   "metadata": {},
   "source": [
    "**Warning**:  Note that if $X$ is continuous then $\\mathbb{P}(X = x) = 0$ for every $x$.  We only have $f(x) = \\mathbb{P}(X = x)$ for discrete random variables; we get probabilities from a PDF by integrating."
   ]
  },
  {
   "cell_type": "markdown",
   "metadata": {},
   "source": [
    "**Lemma 3.15**.  Let $F$ be the CDF for a random variable $X$.  Then:\n",
    "\n",
    "- $\\mathbb{P}(X = x) = F(x) - F(x^-)$ where  $F(x^-) = \\lim_{y \\uparrow x} F(y)$\n",
    "- $\\mathbb{P}(x < X \\leq y) = F(y) - F(x)$\n",
    "- $\\mathbb{P}(X > x) = 1 - F(x)$\n",
    "- If $X$ is continuous then\n",
    "\n",
    "  $$ \\mathbb{P}(a < X < b) = \\mathbb{P}(a \\leq X < b) = \\mathbb{P}(a < X \\leq b) = \\mathbb{P}(a \\leq X \\leq b) $$"
   ]
  },
  {
   "cell_type": "markdown",
   "metadata": {},
   "source": [
    "It is also useful to define the inverse CDF (or quantile function).\n",
    "\n",
    "Let $X$ be a random variable with CDF $F$.  The **inverse CDF** or **quantile function** is defined by\n",
    "\n",
    "$$ F^{-1}(q) = \\inf \\{ x : F(x) \\leq q \\} $$\n",
    "\n",
    "for $q \\in [0, 1]$.  If $F$ is strictly increasing and continuous then $F^{-1}(q)$ is the unique real number $x$ such that $F(x) = q$."
   ]
  },
  {
   "cell_type": "markdown",
   "metadata": {},
   "source": [
    "We call $F^{-1}(1/4)$ the first quartile, $F^{-1}(1/2)$ the median (or second quartile), and $F^{-1}(3/4)$ the third quartile."
   ]
  },
  {
   "cell_type": "markdown",
   "metadata": {},
   "source": [
    "Two random variables $X$ and $Y$ are **equal in distribution** -- written $X \\overset{d}= Y$ -- if $F_X(x) = F_Y(x)$ for all $x$.  This does not mean that $X$ and $Y$ are equal.  Rather, it means that probability statements about $X$ and $Y$ will be the same."
   ]
  },
  {
   "cell_type": "markdown",
   "metadata": {},
   "source": [
    "### 3.3 Some Important Discrete Random Variables"
   ]
  },
  {
   "cell_type": "markdown",
   "metadata": {},
   "source": [
    "**Warning about notation**:  It is traditional to write $X \\sim F$ to indicate that $X$ has distribution $F$.  This is an unfortunate notation since the symbol $\\sim$ is also used to denote an approximation.  The notation is so pervasive we are stuck with it.\n",
    "\n",
    "*.. and we use $A \\approx B$ to denote approximation.  The LaTeX macros hint at this common usage: `\\sim` for $\\sim$, and `\\approx` for $\\approx$.*"
   ]
  },
  {
   "cell_type": "markdown",
   "metadata": {},
   "source": [
    "#### The Point Mass Distribution\n",
    "\n",
    "$X$ has a point mass distribution at $a$, written $X \\sim \\delta_a$, if $\\mathbb{P}(X = a) = 1$, in which case\n",
    "\n",
    "$$ F(x) = \\begin{cases}\n",
    "0 &\\text{if } x < a \\\\\n",
    "1 &\\text{if } x \\geq a\n",
    "\\end{cases} $$\n",
    "\n",
    "The probability mass function is $f(x) = I(x = a)$, which takes value 1 if $x = a$ and 0 otherwise."
   ]
  },
  {
   "cell_type": "markdown",
   "metadata": {},
   "source": [
    "#### The Discrete Uniform Distribution\n",
    "\n",
    "Let $k > 1$ be a given integer.  Suppose that $X$ has probability mass function given by\n",
    "\n",
    "$$ f(x) = \\begin{cases}\n",
    "1/k &\\text{for } x = 1, \\dots, k \\\\\n",
    "0 &\\text{otherwise}\n",
    "\\end{cases} $$\n",
    "\n",
    "We say that $X$ has a uniform distribution on $\\{ 1, \\dots, k \\}$."
   ]
  },
  {
   "cell_type": "markdown",
   "metadata": {},
   "source": [
    "#### The Bernoulli Distribution\n",
    "\n",
    "Let $X$ represent a coin flip.  Then $\\mathbb{P}(X = 1) = p$ and $\\mathbb{P}(X = 0) = 1 - p$ for some $p \\in [0, 1]$.  We say that $X$ has a Bernoulli distribution, written $X \\sim \\text{Bernoulli}(p)$.  The probability mass function is $f(x) = p^x (1 - p)^{1 - x}$ for $x \\in \\{ 0, 1 \\}$."
   ]
  },
  {
   "cell_type": "markdown",
   "metadata": {},
   "source": [
    "#### The Binomial Distribution\n",
    "\n",
    "Suppose we have a coin which falls heads with probability $p$ for some $0 \\leq p \\leq 1$.  Flip the coin $n$ times and let $X$ be the number of heads.  Assume that the tosses are independent.  Let $f(x) = \\mathbb{P}(X = x)$ be the mass function.  It can be shown that\n",
    "\n",
    "$$ f(x) = \\begin{cases}\n",
    "\\binom{n}{x} p^x (1 - p)^{n - x} &\\text{for } x= 0, \\dots, n \\\\\n",
    "0 &\\text{otherwise}\n",
    "\\end{cases} $$\n",
    "\n",
    "A random variable with this mass function is called a Binomial random variable, and we write $X \\sim \\text{Binomial}(n, p)$.  If $X_1 \\sim \\text{Binomial}(n, p_1)$ and $X_2 \\sim \\text{Binomial}(n, p_2)$ then $X_1 + X_2 \\sim \\text{Bimomial}(n, p_1 + p_2)$."
   ]
  },
  {
   "cell_type": "markdown",
   "metadata": {},
   "source": [
    "Note that $X$ is a random variable, $x$ denotes a particular value of the random variable, and $n$ and $p$ are **parameters**, that is, fixed real numbers."
   ]
  },
  {
   "cell_type": "markdown",
   "metadata": {},
   "source": [
    "#### The Geometric Distribution\n",
    "\n",
    "$X$ has a geometric distribution with parameter $p \\in (0, 1)$, written $X \\sim \\text{Geom}(p)$, if\n",
    "\n",
    "$$\\mathbb{P}(X = k) = p(1 - p)^{k - 1}, \\quad k \\geq 1$$\n",
    "\n",
    "We have that\n",
    "\n",
    "$$ \\sum_{k=1}^\\infty \\mathbb{P}(X = k) = p \\sum_{k=1}^\\infty (1 - p)^k = \\frac{p}{1 - (1 - p)} = 1 $$\n",
    "\n",
    "Think of $X$ as the number of flips needed until the first heads when flipping a coin."
   ]
  },
  {
   "cell_type": "markdown",
   "metadata": {},
   "source": [
    "#### The Poisson Distribution\n",
    "\n",
    "$X$ has a Poisson distribution with parameter $\\lambda$, written $X \\sim \\text{Poisson}(\\lambda)$, if\n",
    "\n",
    "$$ f(x) = e^{-\\lambda} \\frac{\\lambda^x}{x!}, \\quad x \\geq 0 $$\n",
    "\n",
    "Note that\n",
    "\n",
    "$$ \\sum_{x=1}^\\infty f(x) = e^{-\\lambda} \\sum_{x=1}^\\infty \\frac{\\lambda^x}{x!} = e^{-\\lambda} e^\\lambda = 1 $$\n",
    "\n",
    "The Poisson distribution is often used as a model for counts of rare events like radioactive decay and traffic accidents.  If $X_1 \\sim \\text{Poisson}(n, \\lambda_1)$ and $X_2 \\sim \\text{Poisson}(n, \\lambda_2)$ then $X_1 + X_2 \\sim \\text{Poisson}(n, \\lambda_1 + \\lambda_2)$."
   ]
  },
  {
   "cell_type": "markdown",
   "metadata": {},
   "source": [
    "**Warning**:  We defined random variables to be mappings from a sample space $\\Omega$ to $\\mathbb{R}$ but we did not mention sample space in any of the distributions above.  Let's construct a sample space explicitly for a Bernoulli random variable.  Let $\\Omega = [0, 1]$, and define $\\mathbb{P}$ to satisfy $\\mathbb{P}([a, b]) = b - a$ for $0 \\leq a \\leq b \\leq 1$.  Fix $p \\in [0, 1]$ and define\n",
    "\n",
    "$$ X(\\omega) = \\begin{cases}\n",
    "1 &\\text{if }\\omega \\leq p \\\\\n",
    "0 &\\text{if }\\omega > p\n",
    "\\end{cases} $$\n",
    "\n",
    "Then $\\mathbb{P}(X = 1) = \\mathbb{P}(\\omega \\leq p) = \\mathbb{P}([0, p]) = p$ and $\\mathbb{P}(X = 0) = 1 - p$.  Thus, $X \\sim \\text{Bernoulli}(p)$.  We could do this for all of the distributions defined above.  In practice, we think of a random variable like a random number but formally it is a mapping defined on some sample space."
   ]
  },
  {
   "cell_type": "markdown",
   "metadata": {},
   "source": [
    "### 3.4 Some Important Continuous Random Variables"
   ]
  },
  {
   "cell_type": "markdown",
   "metadata": {},
   "source": [
    "#### The Uniform Distribution\n",
    "\n",
    "$X$ has a uniform distribution with parameters $a$ and $b$, written $X \\sim \\text{Uniform}(a, b)$, if\n",
    "\n",
    "$$ f(x) = \\begin{cases}\n",
    "\\frac{1}{b - a} &\\text{for } x \\in [a, b] \\\\\n",
    "0 &\\text{otherwise}\n",
    "\\end{cases}$$\n",
    "\n",
    "where $a < b$.  The CDF is\n",
    "\n",
    "$$ F(x) = \\begin{cases}\n",
    "0 &\\text{if } x < a \\\\\n",
    "\\frac{x - a}{b - a} &\\text{if } x \\in [a, b] \\\\\n",
    "1 &\\text{if } x > b\n",
    "\\end{cases} $$"
   ]
  },
  {
   "cell_type": "markdown",
   "metadata": {},
   "source": [
    "#### Normal (Gaussian)\n",
    "\n",
    "$X$ has a Normal (or Gaussian) distribution with parameters $\\mu$ and $\\sigma$, denoted by $X \\sim N(\\mu, \\sigma^2)$, if\n",
    "\n",
    "$$ f(x) = \\frac{1}{\\sigma \\sqrt{2 \\pi}} \\exp \\left\\{ -\\frac{1}{2} \\left( \\frac{x - \\mu}{\\sigma} \\right)^2\\right\\}, \\quad x \\in \\mathbb{R} $$\n",
    "\n",
    "where $\\mu \\in \\mathbb{R}$ and $\\sigma > 0$.  Later we shall see that $\\mu$ is the \"center\" (or mean) of the distribution and that $\\sigma$ is the \"spread\" (or standard deviation) of the distribution.  The Normal plays an important role in probability and statistics.  Many phenomena have approximately Normal distributions.  Later, we shall see that the distribution of a sum of random variables can be approximated by a Normal distribution (the central limit theorem).\n",
    "\n",
    "We say that $X$ has a **standard Normal distribution** if $\\mu = 0$ and $\\sigma = 1$.  Tradition dictates that a standard Normal random variable is denoted by $Z$.  The PDF and the CDF of a standard Normal are denoted by $\\phi(z)$ and $\\Phi(z)$.  The PDF is plotted below."
   ]
  },
  {
   "cell_type": "code",
   "execution_count": 1,
   "metadata": {},
   "outputs": [
    {
     "data": {
      "image/png": "[encoded data removed]",
      "text/plain": [
       "<Figure size 864x576 with 1 Axes>"
      ]
     },
     "metadata": {
      "needs_background": "light"
     },
     "output_type": "display_data"
    }
   ],
   "source": [
    "import numpy as np\n",
    "from scipy.stats import norm\n",
    "import matplotlib.pyplot as plt\n",
    "%matplotlib inline\n",
    "\n",
    "xx = np.arange(-5, 5, step=0.01)\n",
    "\n",
    "plt.figure(figsize=(12, 8))\n",
    "plt.plot(xx, norm.pdf(xx, loc=0, scale=1))\n",
    "plt.title('Standard Normal PDF')\n",
    "plt.show()"
   ]
  },
  {
   "cell_type": "markdown",
   "metadata": {},
   "source": [
    "There is no closed-form expression for $\\Phi$.  Here are some useful facts:\n",
    "\n",
    "- If $X \\sim N(\\mu, \\sigma^2)$ then $Z = (X - \\mu) / \\sigma \\sim N(0, 1)$\n",
    "- If $Z \\sim N(0, 1)$ then $X = \\mu + \\sigma Z \\sim N(\\mu, \\sigma^2)$\n",
    "- If $X_i \\sim N(\\mu_i, \\sigma_i^2)$, $i = 1, \\dots, n$ are independent then\n",
    "\n",
    "  $$ \\sum_{i=1}^n X_i \\sim N \\left(\\sum_{i=1}^n \\mu_u, \\sum_{i=1}^n \\sigma_i^2 \\right) $$"
   ]
  },
  {
   "cell_type": "markdown",
   "metadata": {},
   "source": [
    "It follows from the first fact that if $X \\sim N(\\mu, \\sigma^2)$ then\n",
    "\n",
    "$$ \\mathbb{P}(a < X < b) = \\mathbb{P}\\left( \\frac{a - \\mu}{\\sigma} < Z < \\frac{b - \\mu}{\\sigma} \\right) \n",
    "= \\Phi \\left( \\frac{b - \\mu}{\\sigma} \\right) - \\Phi \\left( \\frac{a - \\mu}{\\sigma} \\right) $$\n",
    "\n",
    "Thus we can compute any probabilities we want as long as we can compute the CDF $\\Phi(z)$ of the standard Normal.  All statistical and computing packages will compute $\\Phi(z)$ and $\\Phi^{-1}(q)$."
   ]
  },
  {
   "cell_type": "markdown",
   "metadata": {},
   "source": [
    "#### Exponential Distribution\n",
    "\n",
    "$X$ has an exponential distribution with parameter $\\beta$, denoted by $X \\sim \\text{Exp}(\\beta)$, if\n",
    "\n",
    "$$ f(x) = \\frac{1}{\\beta} e^{-x / \\beta}, \\quad x > 0 $$\n",
    "\n",
    "where $\\beta > 0$.  The exponential distribution is used to model the lifetimes of electronic components and the waiting times between rare events."
   ]
  },
  {
   "cell_type": "markdown",
   "metadata": {},
   "source": [
    "#### Gamma Distribution\n",
    "\n",
    "For $\\alpha > 0$, the **Gamma function** is defined by $\\Gamma(\\alpha) = \\int_0^\\infty y^{\\alpha - 1} e^{-y} dy$.  $X$ has a Gamma distribution with parameters $\\alpha$ and $\\beta$, denoted by $X \\sim \\text{Gamma}(\\alpha, \\beta)$, if\n",
    "\n",
    "$$ f(x) = \\frac{1}{\\beta^\\alpha \\Gamma(\\alpha)} x^{\\alpha - 1} e^{-x / \\beta}, \\quad x > 0 $$\n",
    "\n",
    "where $\\alpha, \\beta > 0$.  The exponential distribution is just a $\\text{Gamma}(1, \\beta)$ distribution.  If $X_i \\sim \\text{Gamma}(\\alpha_i, \\beta)$ are independent, then $\\sum_{i=1}^n X_i \\sim \\text{Gamma}\\left( \\sum_{i=1}^n \\alpha_i, \\beta \\right)$."
   ]
  },
  {
   "cell_type": "markdown",
   "metadata": {},
   "source": [
    "#### Beta Distribution\n",
    "\n",
    "$X$ has Beta distribution with parameters $\\alpha > 0$ and $\\beta > 0$, denoted by $X \\sim \\text{Beta}(\\alpha, \\beta)$, if\n",
    "\n",
    "$$ f(x) = \\frac{\\Gamma(\\alpha + \\beta)}{\\Gamma(\\alpha) \\Gamma(\\beta)} x^{\\alpha - 1} (1 - x)^{\\beta - 1}, \\quad 0 < x < 1$$"
   ]
  },
  {
   "cell_type": "markdown",
   "metadata": {},
   "source": [
    "#### $t$ and Cauchy Distribution\n",
    "\n",
    "$X$ has a $t$ distribution with $\\nu$ degrees of freedom -- written $X \\sim t_\\nu$ -- if\n",
    "\n",
    "$$ f(x) = \\frac{\\Gamma\\left( \\frac{\\nu + 1}{2} \\right)}{\\Gamma\\left( \\frac{\\nu}{2} \\right)} \\frac{1}{\\left(1 + \\frac{x^2}{\\nu} \\right)^{(\\nu + 1) / 2}} $$\n",
    "\n",
    "The $t$ distribution is similar to a Normal but it has thicker tails.  In fact, the Normal corresponds to a $t$ with $\\nu = \\infty$.  The Cauchy distribution is a special case of the $t$ distribution corresponding to $\\nu = 1$.  The density is\n",
    "\n",
    "$$ f(x) = \\frac{1}{\\pi (1 + x^2)} $$"
   ]
  },
  {
   "cell_type": "markdown",
   "metadata": {},
   "source": [
    "#### The $\\chi^2$ Distribution\n",
    "\n",
    "$X$ has a $\\chi^2$ distribution with $p$ degrees of freedom -- written $X \\sim \\chi_p^2$ -- if\n",
    "\n",
    "$$ f(x) = \\frac{1}{\\Gamma\\left(\\frac{p}{2}\\right) 2^{\\frac{p}{2}}} x^{\\frac{p}{2} - 1} e^{-\\frac{x}{2}}, \\quad x > 0 $$\n",
    "\n",
    "If $Z_1, Z_2, \\dots$ are independent standard Normal random variables then $\\sum_{i=1}^p Z_i^2 \\sim \\chi_p^2$."
   ]
  },
  {
   "cell_type": "markdown",
   "metadata": {},
   "source": [
    "### 3.5 Bivariate Distributions"
   ]
  },
  {
   "cell_type": "markdown",
   "metadata": {},
   "source": [
    "Given a pair of discrete random variables $X$ and $Y$, define the **joint mass function** by $f(x, y) = \\mathbb{P}(X = x \\text{ and } Y = y)$.  From now on, we write $\\mathbb{P}(X = x \\text{ and } Y = y)$ as $\\mathbb{P}(X = x, Y = y)$.  We write $f$ as $f_{X, Y}$ when we want to be more explicit."
   ]
  },
  {
   "cell_type": "markdown",
   "metadata": {},
   "source": [
    "In the continuous case, we call a function $f(x, y)$ a PDF for the random variables $(X, Y)$ if:\n",
    "- $f(x, y) \\geq 0$ for all $(x, y)$\n",
    "- $ \\int_{-\\infty}^\\infty \\int_{-\\infty}^\\infty f(x, y) \\; dx dy = 1$\n",
    "- For any set $A \\subset \\mathbb{R} \\times \\mathbb{R}$, $\\mathbb{P}((X, Y) \\in A) = \\int \\int_A f(x, y) \\; dx dy$\n",
    "\n",
    "In the continuous or discrete case, we define the joint CDF as $ F_{X, Y}(x, y) = \\mathbb{P}(X \\leq x, Y \\leq y) $."
   ]
  },
  {
   "cell_type": "markdown",
   "metadata": {},
   "source": [
    "### 3.6 Marginal Distributions"
   ]
  },
  {
   "cell_type": "markdown",
   "metadata": {},
   "source": [
    "If $(X, Y)$ have joint distribution with mass function $f_{X, Y}$, then the **marginal mass function** for $X$ is defined by\n",
    "\n",
    "$$ f_X(x) = \\mathbb{P}(X = x) = \\sum_y \\mathbb{P}(X = x, Y = y) = \\sum_y f(x, y) $$\n",
    "\n",
    "and the **marginal mass function** for $Y$ is defined by\n",
    "\n",
    "$$ f_Y(y) = \\mathbb{P}(Y = y) = \\sum_x \\mathbb{P}(X = x, Y = y) = \\sum_x f(x, y) $$"
   ]
  },
  {
   "cell_type": "markdown",
   "metadata": {},
   "source": [
    "For continuous random variables, the marginal densities are\n",
    "\n",
    "$$ f_X(x) = \\int f(x, y) \\; dy \\quad \\text{and} \\quad f_Y(y) = \\int f(x, y) \\; dx $$\n",
    "\n",
    "The corresponding marginal CDFs are denoted by $F_X$ and $F_Y$."
   ]
  },
  {
   "cell_type": "markdown",
   "metadata": {},
   "source": [
    "### 3.7 Independent Random Variables"
   ]
  },
  {
   "cell_type": "markdown",
   "metadata": {},
   "source": [
    "Two random variables $X$ and $Y$ are **independent** if, for every $A$ and $B$,\n",
    "\n",
    "$$ \\mathbb{P}(X \\in A, Y \\in B) = \\mathbb{P}(X \\in A) \\mathbb{P}(Y \\in B) $$\n",
    "\n",
    "We write $X \\text{ ⫫ } Y$."
   ]
  },
  {
   "cell_type": "markdown",
   "metadata": {},
   "source": [
    "In principle, to check whether $X$ and $Y$ are independent we need to check the equation above for all subsets $A$ and $B$.  Fortunately, we have the following result which we state for continuous random variables though it is true for discrete random variables too."
   ]
  },
  {
   "cell_type": "markdown",
   "metadata": {},
   "source": [
    "**Theorem 3.30**.  Let $X$ and $Y$ have joint PDF $f_{X, Y}$.  Then $X \\text{ ⫫ } Y$ if and only if $f_{X, Y}(x, y) = f_X(x) f_Y(y)$ for all values $x$ and $y$.\n",
    "\n",
    "*The statement is not rigorous because the density is defined only up to sets of measure 0.*"
   ]
  },
  {
   "cell_type": "markdown",
   "metadata": {},
   "source": [
    "The following result is helpful for verifying independence."
   ]
  },
  {
   "cell_type": "markdown",
   "metadata": {},
   "source": [
    "**Theorem 3.33**.  Suppose that the range of $X$ and $Y$ is a (possibly infinite) rectangle.  If $f(x, y) = g(x) h(y)$ for some functions $g$ and $h$ (not necessarily probability density functions) then $X$ and $Y$ are independent."
   ]
  },
  {
   "cell_type": "markdown",
   "metadata": {},
   "source": [
    "### 3.8 Conditional Distributions"
   ]
  },
  {
   "cell_type": "markdown",
   "metadata": {},
   "source": [
    "The **conditional probability mass function** is\n",
    "\n",
    "$$ f_{X | Y}(x | y) = \\mathbb{P}(X = x | Y = y) = \\frac{\\mathbb{P}(X = x, Y = y)}{\\mathbb{P}(Y = y)} = \\frac{f_{X, Y}(x, y)}{f_Y(y)} $$\n",
    "\n",
    "if $f_Y(y) > 0$."
   ]
  },
  {
   "cell_type": "markdown",
   "metadata": {},
   "source": [
    "For continuous random variables, the **conditional probability density function** is\n",
    "\n",
    "$$ f_{X | Y}(x | y) = \\frac{f_{X, Y}(x, y)}{f_Y(y)} $$\n",
    "\n",
    "assuming that $f_Y(y) > 0$.  Then,\n",
    "\n",
    "$$ \\mathbb{P}(X \\in A | Y = y) = \\int_A f_{X | Y}(x | y) \\; dx $$"
   ]
  },
  {
   "cell_type": "markdown",
   "metadata": {},
   "source": [
    "*We are treading in deep water here.  When we compute $\\mathbb{P}(X \\in A | Y = y)$ in the continuous case we are conditioning on the event $\\mathbb{P}(Y = y)$ which has probability 0.  We avoid this problem by defining things in terms of the PDF.  The fact that this leads to a well-defined theory is proved in more advanced courses.  We simply take it as a definition.*"
   ]
  },
  {
   "cell_type": "markdown",
   "metadata": {},
   "source": [
    "### 3.9 Multivariate Distributions and IID Samples"
   ]
  },
  {
   "cell_type": "markdown",
   "metadata": {},
   "source": [
    "Let $X = (X_1, \\dots, X_n)$ where the $X_i$'s are random variables.  We call $X$ a **random vector**.  Let $f(x_1, \\dots, x_n)$ denote the PDF.  It is possible to define their marginals, conditionals, etc. much the same way as in the bivariate case.  We say that $X_1, \\dots, X_n$ are independent if, for every $A_1, \\dots, A_n$,\n",
    "\n",
    "$$ \\mathbb{P}(X_1 \\in A_1, \\dots, X_n \\in A_n) = \\prod_{i=1}^n \\mathbb{P}(X_i \\in A_i) $$\n",
    "\n",
    "It suffices to check that $f(x_1, \\dots, x_n) = \\prod_{i=1}^n f_{X_i}(x_i)$.  If $X_1, \\dots, X_n$ are independent and each has the same marginal distribution with density $f$, we say that $X_1, \\dots, X_n$ are IID (independent and identically distributed).  We shall write this as $X_1, \\dots, X_n \\sim f$ or, in terms of the CDF, $X_1, \\dots, X_n \\sim F$.  This means that $X_1, \\dots, X_n$ are independent draws from the same distribution.  We also call $X_1, \\dots, X_n$ a **random sample** from $F$."
   ]
  },
  {
   "cell_type": "markdown",
   "metadata": {},
   "source": [
    "### 3.10 Two Important Multivariate Distributions"
   ]
  },
  {
   "cell_type": "markdown",
   "metadata": {},
   "source": [
    "#### Multinomial Distribution\n",
    "\n",
    "The multivariate version of the Binomial is called a Multinomial.  Consider drawing a ball from an urn which has balls of $k$ different colors.  Let $p = (p_1, \\dots, p_k)$ where $p_j \\geq 0$ and $\\sum_{j=1}^k p_j = 1$ and suppose that $p_j$ is the probability of drawing a ball of color $j$.  Draw $n$ times (independent draws with replacement) and let $X = (X_1, \\dots, X_k)$, where $X_j$ is the number of times that color $j$ appears.  Hence, $n = \\sum_{j=1}^k X_j$.  We say that $X$ has a Multinomial distribution with parameters $n$ and $p$, written $X \\sim \\text{Multinomial}(n, p)$.  The probability function is\n",
    "\n",
    "$$ f(x) = \\binom{n}{x_1 \\cdots x_k} p_1^{x_1} \\cdots p_k^{x_k} $$\n",
    "\n",
    "where\n",
    "\n",
    "$$ \\binom{n}{x_1 \\cdots x_k} = \\frac{n!}{x_1! \\cdots x_k!} $$"
   ]
  },
  {
   "cell_type": "markdown",
   "metadata": {},
   "source": [
    "**Lemma 3.41**.  Suppose that $X \\sim \\text{Multinomial}(n, p)$ where $X = (X_1, \\dots, X_k)$ and $p = (p_1, \\dots, p_k)$.  The marginal distribution of $X_j$ is $\\text{Binomial}(n, p_j)$."
   ]
  },
  {
   "cell_type": "markdown",
   "metadata": {},
   "source": [
    "#### Multivariate Normal\n",
    "\n",
    "The univariate Normal had two parameters, $\\mu$ and $\\sigma$.  In the multivariate vector, $\\mu$ is a vector and $\\sigma$ is replaced by a matrix $\\Sigma$.  To begin, let\n",
    "\n",
    "$$ Z = \\begin{pmatrix}\n",
    "Z_1 \\\\\n",
    "\\vdots \\\\\n",
    "Z_k\n",
    "\\end{pmatrix}$$\n",
    "\n",
    "where $Z_1, \\dots, Z_k \\sim N(0, 1)$ are independent.  The density of $Z$ is\n",
    "\n",
    "$$ f(z) = \\prod_{i=1}^k f(z_i) \n",
    "= \\frac{1}{(2 \\pi)^{k/2}} \\exp \\left\\{ -\\frac{1}{2} \\sum_{j=1}^k z_j^2 \\right\\} \n",
    "= \\frac{1}{(2 \\pi)^{k/2}} \\exp \\left\\{ -\\frac{1}{2} z^T z \\right\\} \n",
    "$$\n",
    "\n",
    "We say that $Z$ has a standard multivariate Normal distribution, written $Z \\sim N(0, I)$ where it is understood that $0$ represents a vector of $k$ zeroes and $I$ is the $k \\times k$ identity matrix.\n",
    "\n",
    "More generally, a vector $X$ has multivariate Normal distribution, denoted by $X \\sim N(\\mu, \\Sigma)$, if it has density\n",
    "\n",
    "$$ f(x; \\mu, \\Sigma) = \\frac{1}{(2 \\pi)^{k/2} \\text{det}(\\Sigma)^{1/2}} \\exp \\left\\{ - \\frac{1}{2} (x - \\mu)^T \\Sigma^{-1} (x - \\mu) \\right\\} $$\n",
    "\n",
    "where $\\text{det}(\\cdot)$ denotes the determinant of a matrix, $\\mu$ is a vector of length $k$, and $\\Sigma$ is a $k \\times k$ symmetric, positive definite matrix.  Setting $\\mu = 0$ and $\\Sigma = I$ gives back the standard Normal.\n",
    "\n",
    "*A matrix $\\Sigma$ is positive definite if, for all non-zero vectors $x$, $x^T \\Sigma x > 0$.*\n",
    "\n",
    "Since $\\Sigma$ is symmetric and positive definite, it can be shown that there exists a matrix $\\Sigma^{1/2}$ -- called the square root of $\\Sigma$ -- with the following properties:\n",
    "\n",
    "- $\\Sigma^{1/2}$ is symmetric\n",
    "- $\\Sigma = \\Sigma^{1/2} \\Sigma^{1/2}$\n",
    "- $\\Sigma^{1/2}\\Sigma^{-1/2} = \\Sigma^{-1/2}\\Sigma^{1/2} = I$, where $\\Sigma^{1/2} = \\left(\\Sigma^{1/2}\\right)^{-1}$"
   ]
  },
  {
   "cell_type": "markdown",
   "metadata": {},
   "source": [
    "**Theorem 3.42**.  If $Z \\sim N(0, I)$ and $X = \\mu + \\Sigma^{1/2} Z$ then $X \\sim N(\\mu, \\Sigma)$.  Conversely, if $X \\sim N(\\mu, \\Sigma)$, then $\\Sigma^{-1/2}(X - \\mu) \\sim N(0, I)$."
   ]
  },
  {
   "cell_type": "markdown",
   "metadata": {},
   "source": [
    "Suppose we partition a random Normal vector $X$ as $X = (X_a, X_b)$, and we similarly partition\n",
    "\n",
    "$$ \\mu = \\begin{pmatrix}\\mu_a & \\mu_b \\end{pmatrix} \n",
    "\\quad\n",
    "\\Sigma = \\begin{pmatrix}\n",
    "\\Sigma_{aa} & \\Sigma_{ab} \\\\\n",
    "\\Sigma_{ba} & \\Sigma_{bb}\n",
    "\\end{pmatrix} $$\n"
   ]
  },
  {
   "cell_type": "markdown",
   "metadata": {},
   "source": [
    "**Theorem 3.43**.  Let $X \\sim N(\\mu, \\Sigma)$.  Then:\n",
    "\n",
    "1.  The marginal distribution of $X_a$ is $X_a \\sim N(\\mu_a, \\Sigma_{aa})$.\n",
    "2.  The conditional distribution of $X_b$ given $X_a = x_a$ is\n",
    "\n",
    "    $$  X_b | X_a = x_a \\sim N \\left( \\mu_b + \\Sigma_{ba}\\Sigma_{aa}^{-1}(x_a - \\mu_a), \\Sigma_{bb} - \\Sigma_{ba} \\Sigma_{aa}^{-1} \\Sigma_{ab} \\right) $$\n",
    "\n",
    "3.  If $a$ is a vector then $a^T X \\sim N(a^T \\mu, a^T \\Sigma a)$\n",
    "4.  $V = (X - \\mu)^T \\Sigma^{-1} (X - \\mu) \\sim \\chi_k^2$"
   ]
  },
  {
   "cell_type": "markdown",
   "metadata": {},
   "source": [
    "### 3.11 Transformations of Random Variables"
   ]
  },
  {
   "cell_type": "markdown",
   "metadata": {},
   "source": [
    "Suppose that $X$ is a random variable with PDF $f_X$ and CDF $F_X$.  Let $Y = r(X)$ be a function of $X$, such as $Y = X^2$ or $Y = e^X$.  We call $Y = r(X)$ a transformation of $X$.  How do we compute the PDF and the CDF of $Y$?  In the discrete case, the answer is easy.  The mass function of $Y$ is given by\n",
    "\n",
    "$$ f_Y(y) = \\mathbb{P}(Y = y) = \\mathbb{P}(r(X) = y) = \\mathbb{P}(\\{x; r(x) = y\\}) = \\mathbb{P}(X \\in r^{-1}(y)) $$"
   ]
  },
  {
   "cell_type": "markdown",
   "metadata": {},
   "source": [
    "The continuous case is harder.  There are 3 steps for finding $f_Y$:\n",
    "\n",
    "1. For each $y$, find the set $A_y = \\{ x : r(x) \\leq y \\}$.\n",
    "\n",
    "2. Find the CDF\n",
    "\n",
    "   $$ F_Y(y) = \\mathbb{P}(Y \\leq y) = \\mathbb{P}(r(X) \\leq y) = \\mathbb{P}(\\{x ; r(x) \\leq y \\}) = \\int_{A_y} f_X(x) dx $$\n",
    "\n",
    "3. The PDF is $f_Y(y) = F'_Y(y)$."
   ]
  },
  {
   "cell_type": "markdown",
   "metadata": {},
   "source": [
    "When $r$ is strictly monotone increasing of strictly monotone decreasing then $r$ has an inverse $s = r^{-1]$ and in this case one can show that\n",
    "\n",
    "$$ f_Y(y) = f_X(s(y)) \\;\\Bigg| \\frac{ds(y)}{dy} \\Bigg|$$"
   ]
  },
  {
   "cell_type": "markdown",
   "metadata": {},
   "source": [
    "### 3.12 Transformation of Several Random Variables"
   ]
  },
  {
   "cell_type": "markdown",
   "metadata": {},
   "source": [
    "In some cases we are interested in the transformation of several random variables.  For example, if $X$ and $Y$ are given random variables, we might want to know the distribution of $X / Y$, $X + Y$, $\\max \\{ X, Y \\}$ or $\\min \\{ X, Y \\}$.  Let $Z = r(X, Y)$.  The steps for finding $f_Z$ are the same as before:\n",
    "\n",
    "1. For each $z$, find the set $A_z = \\{ (x, y) : r(x, y) \\leq z \\}$.\n",
    "2. Find the CDF\n",
    "\n",
    "  $$ F_Z(z) = \\mathbb{P}(Z \\leq z) = \\mathbb{P}(r(X, Y) \\leq z) = \\mathbb{P}(\\{ (x, y) : r(x, y) \\leq z \\})\n",
    "  = \\int \\int_{A_z} f_{X, Y}(x, y) \\; dx dy \n",
    "  $$\n",
    "  \n",
    "3. Find $f_Z(z) = F'_Z(z)$."
   ]
  },
  {
   "cell_type": "markdown",
   "metadata": {},
   "source": [
    "### 3.13 Technical Appendix"
   ]
  },
  {
   "cell_type": "markdown",
   "metadata": {},
   "source": [
    "Recall that a probability measure $\\mathbb{P}$ is defined on a $\\sigma$-field $\\mathcal{A}$ of a sample space $\\Omega$.  A random variable $X$ is **measurable** map $X : \\Omega \\rightarrow \\mathbb{R}$.  Measurable means that, for every $x$, $\\{ \\omega : X(\\omega) \\leq x \\} \\in \\mathcal{A} $."
   ]
  },
  {
   "cell_type": "markdown",
   "metadata": {},
   "source": [
    "### 3.14 Exercises"
   ]
  },
  {
   "cell_type": "markdown",
   "metadata": {},
   "source": [
    "**Exercise 3.14.1**.  Show that\n",
    "\n",
    "$$ \\mathbb{P}(X = x) = F(x^+) - F(x^-) $$\n",
    "\n",
    "and\n",
    "\n",
    "$$ F(x_2) - F(x_1) = \\mathbb{P}(X \\leq x_2) - \\mathbb{P}(X \\leq x_1) $$"
   ]
  },
  {
   "cell_type": "markdown",
   "metadata": {},
   "source": [
    "**Solution**.\n",
    "\n",
    "By definition,  $F(x_2) = \\mathbb{P}(X \\leq x_2)$ and $F(x_1) = \\mathbb{P}(X \\leq x_1)$, so the second equation is immediate.\n",
    "\n",
    "Also by definition,\n",
    "\n",
    "$$ F(x^+) = \\lim_{y \\rightarrow x, y > x} F(y) = \\lim_{y \\rightarrow x, y > x} \\mathbb{P}(X \\leq y) \n",
    "= \\mathbb{P}(\\exists y : X \\leq y, y > x) \n",
    "= \\mathbb{P}(X \\leq x) $$\n",
    "\n",
    "and\n",
    "\n",
    "$$ F(x^-) = \\lim_{y \\rightarrow x, y < x} F(y) = \\lim_{y \\rightarrow x, y > x} \\mathbb{P}(X \\leq y) \n",
    "= \\mathbb{P}(\\exists y : X \\leq y, y < x)\n",
    "= \\mathbb{P}(X < x)\n",
    "$$\n",
    "\n",
    "and so\n",
    "\n",
    "$$ F(x^+) - F(x^-) = \\mathbb{P}(X \\leq x) - \\mathbb{P}(X < x) = \\mathbb{P}(X(\\omega) \\in \\{x : X(\\omega) \\leq x \\} - \\{x: X(\\omega) < x \\}) = \\mathbb{P}(X = x)$$"
   ]
  },
  {
   "cell_type": "markdown",
   "metadata": {},
   "source": [
    "**Exercise 3.14.2**.  Let $X$ be such that $\\mathbb{P}(X = 2) = \\mathbb{P}(X = 3) = 1/10$ and $\\mathbb{P}(X = 5) = 8/10$.  Plot the CDF $F$.  Use $F$ to find $\\mathbb{P}(2 < X \\leq 4.8)$ and $\\mathbb{P}(2 \\leq X \\leq 4.8)$."
   ]
  },
  {
   "cell_type": "markdown",
   "metadata": {},
   "source": [
    "**Solution**."
   ]
  },
  {
   "cell_type": "code",
   "execution_count": 2,
   "metadata": {},
   "outputs": [
    {
     "data": {
      "image/png": "[encoded data removed]",
      "text/plain": [
       "<Figure size 864x576 with 1 Axes>"
      ]
     },
     "metadata": {
      "needs_background": "light"
     },
     "output_type": "display_data"
    }
   ],
   "source": [
    "import numpy as np\n",
    "import matplotlib.pyplot as plt\n",
    "%matplotlib inline\n",
    "\n",
    "plt.figure(figsize=(12, 8))\n",
    "\n",
    "# Draw horizontal lines\n",
    "for xmin, xmax, y in [(0, 2, 0), (2, 3, 1/10), (3, 5, 2/10), (5, 10, 1)]:\n",
    "    plt.hlines(y, xmin, xmax, color='C0', linestyle='solid')\n",
    "    \n",
    "# Draw vertical lines\n",
    "for ymin, ymax, x in [(0, 1/10, 2), (1/10, 2/10, 3), (2/10, 1, 5)]:\n",
    "    plt.vlines(x, ymin, ymax, color='C0', linestyle='dashed')\n",
    "    \n",
    "# Mark open intervals\n",
    "plt.scatter([2, 3, 5], [0, 1/10, 2/10], color='C0', facecolor='white', zorder=10, linewidth=2)\n",
    "\n",
    "# Mark close intervals\n",
    "plt.scatter([2, 3, 5], [1/10, 2/10, 1], color='C0', facecolor='C0', zorder=10, linewidth=2)\n",
    "\n",
    "plt.xlabel('x')\n",
    "plt.ylabel('F(x)')\n",
    "plt.show()"
   ]
  },
  {
   "cell_type": "markdown",
   "metadata": {},
   "source": [
    "$$\n",
    "\\mathbb{P}(2 < X \\leq 4.8) = F(4.8) - F(2) = 0.2 - 0.1 = 0.1\n",
    "\\quad \\text{ and } \\quad\n",
    "\\mathbb{P}(2 \\leq X \\leq 4.8) = F(4.8) - F(2^{-}) = 0.2 - 0 = 0.2\n",
    "$$"
   ]
  },
  {
   "cell_type": "markdown",
   "metadata": {},
   "source": [
    "**Exercise 3.14.3**.  Prove Lemma 3.15.\n",
    "\n",
    "Let $F$ be the CDF for a random variable $X$.  Then:\n",
    "\n",
    "- $\\mathbb{P}(X = x) = F(x) - F(x^-)$ where  $F(x^-) = \\lim_{y \\uparrow x} F(y)$\n",
    "- $\\mathbb{P}(x < X \\leq y) = F(y) - F(x)$\n",
    "- $\\mathbb{P}(X > x) = 1 - F(x)$\n",
    "- If $X$ is continuous then\n",
    "\n",
    "  $$ \\mathbb{P}(a < X < b) = \\mathbb{P}(a \\leq X < b) = \\mathbb{P}(a < X \\leq b) = \\mathbb{P}(a \\leq X \\leq b) $$"
   ]
  },
  {
   "cell_type": "markdown",
   "metadata": {},
   "source": [
    "**Solution**.\n",
    "\n",
    "Proof of first statement:\n",
    "\n",
    "$$ F(x) - F(x^{-}) = \\mathbb{P}(X \\leq x) - \\mathbb{P}(X < x) = \\mathbb{P}(\\{\\omega : X(\\omega) \\leq x\\} - \\{\\omega : X(\\omega) < x\\}) = \\mathbb{P}(X = x)$$\n",
    "\n",
    "Proof of second statement:\n",
    "\n",
    "$$ \\mathbb{P}(x < X \\leq y) = \\mathbb{P}(\\{\\omega : X(\\omega) \\leq y\\} - \\{\\omega : X(\\omega) \\leq x\\}) = \\mathbb{P}(X \\leq y) - \\mathbb{P}(X \\leq x) = F(y) - F(x) $$\n",
    "\n",
    "Proof of third statement:\n",
    "\n",
    "$$ \\mathbb{P}(X > x) = \\mathbb{P}(\\{\\omega: X(\\omega) > x\\}) = \\mathbb{P}(\\{\\omega: X(\\omega) \\leq x\\}^c) = 1 - \\mathbb{P}(X \\leq x) = 1 - F(x) $$\n",
    "\n",
    "Proof of fourth statement:\n",
    "\n",
    "If $F$ is continuous, then $\\mathbb{P}(X = a) = \\mathbb{P}(X = b) = 0$, and so\n",
    "\n",
    "$$\n",
    "\\begin{align}\n",
    "\\mathbb{P}(a < X \\leq b) &= \\mathbb{P}(a < X < b) + \\mathbb{P}(X = b) = \\mathbb{P}(a < X < b) \\\\\n",
    "\\mathbb{P}(a \\leq X < b) &= \\mathbb{P}(X = a) + \\mathbb{P}(a < X < b) = \\mathbb{P}(a < X < b) \\\\\n",
    "\\mathbb{P}(a \\leq X \\leq b) &= \\mathbb{P}(X = a) + \\mathbb{P}(a < X < b) + \\mathbb{P}(X = b) = \\mathbb{P}(a < X < b)\n",
    "\\end{align}\n",
    "$$"
   ]
  },
  {
   "cell_type": "markdown",
   "metadata": {},
   "source": [
    "**Exercise 3.14.4**.  Let $X$ have probability density function\n",
    "\n",
    "$$ f_X(x) = \\begin{cases}\n",
    "1/4 &\\text{if } 0 < x < 1 \\\\\n",
    "3/8 &\\text{if } 3 < x < 5 \\\\\n",
    "0   &\\text{otherwise}\n",
    "\\end{cases} $$\n",
    "\n",
    "**(a)**  Find the cumulative distribution function of $X$.\n",
    "\n",
    "**(b)**  Let $Y = 1 / X$.  Find the probability density function $f_Y(y)$ for $Y$.  Hint:  Consider three cases, $\\frac{1}{5} \\leq y \\leq \\frac{1}{3}$, $\\frac{1}{3} \\leq y \\leq 1$, and $y \\geq 1$."
   ]
  },
  {
   "cell_type": "markdown",
   "metadata": {},
   "source": [
    "**Solution**.\n",
    "\n",
    "**(a)**\n",
    "\n",
    "$$ \n",
    "F_X(x) = \\begin{cases}\n",
    "0 &\\text{if } x \\leq 0 \\\\\n",
    "\\frac{x}{4} &\\text{if } 0 < x \\leq 1 \\\\\n",
    "\\frac{1}{4} &\\text{if } 1 < x \\leq 3 \\\\\n",
    "\\frac{1}{4} + \\frac{3(x - 3)}{8} &\\text{if } 3 < x \\leq 5 \\\\\n",
    "1 &\\text{if } x \\geq 5\n",
    "\\end{cases} \n",
    "$$"
   ]
  },
  {
   "cell_type": "code",
   "execution_count": 3,
   "metadata": {},
   "outputs": [
    {
     "data": {
      "image/png": "[encoded data removed]",
      "text/plain": [
       "<Figure size 864x576 with 1 Axes>"
      ]
     },
     "metadata": {
      "needs_background": "light"
     },
     "output_type": "display_data"
    }
   ],
   "source": [
    "import numpy as np\n",
    "import matplotlib.pyplot as plt\n",
    "%matplotlib inline\n",
    "\n",
    "plt.figure(figsize=(12, 8))\n",
    "\n",
    "# Draw horizontal lines\n",
    "for xmin, xmax, y in [(-2, 0, 0), (1, 3, 1/4), (5, 7, 1)]:\n",
    "    plt.hlines(y, xmin, xmax, color='C0', linestyle='solid')\n",
    "    \n",
    "# Draw diagonal lines\n",
    "for x1, y1, x2, y2 in [(0, 0, 1, 1/4), (3, 1/4, 5, 1)]:\n",
    "    plt.plot([x1, x2], [y1, y2], color='C0')\n",
    "    \n",
    "plt.xlabel('x')\n",
    "plt.ylabel('F(x)')\n",
    "plt.show()"
   ]
  },
  {
   "cell_type": "code",
   "execution_count": null,
   "metadata": {},
   "outputs": [],
   "source": []
  }
 ],
 "metadata": {
  "kernelspec": {
   "display_name": "Python 3",
   "language": "python",
   "name": "python3"
  },
  "language_info": {
   "codemirror_mode": {
    "name": "ipython",
    "version": 3
   },
   "file_extension": ".py",
   "mimetype": "text/x-python",
   "name": "python",
   "nbconvert_exporter": "python",
   "pygments_lexer": "ipython3",
   "version": "3.7.3"
  }
 },
 "nbformat": 4,
 "nbformat_minor": 2
}
