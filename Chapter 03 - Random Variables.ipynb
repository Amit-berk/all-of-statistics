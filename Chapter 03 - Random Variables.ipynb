{
 "cells": [
  {
   "cell_type": "markdown",
   "metadata": {},
   "source": [
    "## 3. Random Variables"
   ]
  },
  {
   "cell_type": "markdown",
   "metadata": {},
   "source": [
    "### 3.1 Introduction"
   ]
  },
  {
   "cell_type": "markdown",
   "metadata": {},
   "source": [
    "A **random variable** is a mapping $X : \\Omega \\rightarrow \\mathbb{R}$ that assigns a real number $X(\\omega)$ to each outcome $\\omega$.\n",
    "\n",
    "*Technically, a random variable must be measurable.  See the technical appendix for details.*\n",
    "\n",
    "Given a random variable $X$ and a subset $A$ of the real line, define $X^{-1}(A) = \\{ \\omega \\in \\Omega : X(\\omega) \\in A \\}$ and let\n",
    "\n",
    "$$\n",
    "\\begin{align}\n",
    "\\mathbb{P}(X \\in A) = \\mathbb{P}(X^{-1}(A)) &= \\mathbb{P}(\\{ \\omega \\in \\Omega; X(\\omega) \\in A \\}) \\\\\n",
    "\\mathbb{P}(X = x) = \\mathbb{P}(X^{-1}(x)) &= \\mathbb{P}(\\{ \\omega \\in \\Omega; X(\\omega) = x \\} )\n",
    "\\end{align}\n",
    "$$\n",
    "\n",
    "$X$ denotes a random variable and $x$ denotes a possible value of $X$."
   ]
  },
  {
   "cell_type": "markdown",
   "metadata": {},
   "source": [
    "### 3.2 Distribution Functions and Probability Functions"
   ]
  },
  {
   "cell_type": "markdown",
   "metadata": {},
   "source": [
    "The **cumulative distribution function**, CDF, $F_X : \\mathbb{R} \\rightarrow [0, 1]$ of a random variable $X$ is defined by\n",
    "\n",
    "$$ F_X(x) = \\mathbb{P}(X \\leq x) $$\n",
    "\n",
    "The following result shows that the CDF completely determines the distribution of a random variable."
   ]
  },
  {
   "cell_type": "markdown",
   "metadata": {},
   "source": [
    "**Theorem 3.7**.  Let $X$ have CDF $F$ and let $Y$ have CDF $G$.  If $F(x) = G(x)$ for all $x$ then $\\mathbb{P}(X \\in A) = \\mathbb{P}(Y \\in A)$ for all $A$.\n",
    "\n",
    "*Technically, we only have that $\\mathbb{P}(X \\in A) = \\mathbb{P}(Y \\in A)$ for every measurable event $A$.*"
   ]
  },
  {
   "cell_type": "markdown",
   "metadata": {},
   "source": [
    "**Theorem 3.8**.  A function $F$ mapping the real line to $[0, 1]$ is a CDF for some probability measure $\\mathbb{P}$ if and only if if satisfies the following three conditions:\n",
    "\n",
    "  - $F$ is non-decreasing, i.e. $x_1 < x_2$ implies that $F(x_1) \\leq F(x_2)$.\n",
    "  - $F$ is normalized: $\\lim_{n \\rightarrow -\\infty} F(x) = 0$ and $\\lim_{n \\rightarrow +\\infty} F(x) = 1$.\n",
    "  - $F$ is right-continuous, i.e. $F(x) = F(x^+)$ for all $x$, where\n",
    "  \n",
    "  $$ F(x^+) = \\lim_{y \\rightarrow x, y > x} F(y) $$"
   ]
  },
  {
   "cell_type": "markdown",
   "metadata": {},
   "source": [
    "**Proof**.  Suppose that $F$ is a CDF.  Let us show that $F$ is right-continuous.  Let $x$ be a real number and let $y_1, y_2, \\dots$ be a sequence of real numbers such that $y_1 > y_2 > \\dots$ and $\\lim_i y_i = x$.  Let $A_i = (-\\infty, y_i]$ and let $A = (-\\infty, x]$.  Note that $A = \\cap_{i=1}^\\infty A_i$ and also note that $A_1 \\supset A_2 \\supset \\cdots$.  Because the events are monotone, $\\lim_i \\mathbb{P}(A_i) = \\mathbb{P}(\\cap_i A_i)$.  Thus,\n",
    "\n",
    "$$ F(x) = \\mathbb{P}(A) = \\mathbb{P}(\\cap_i A_i) = \\lim_i \\mathbb{P}(A_i) = \\lim_i F(y_i) = F(x^+) $$\n",
    "\n",
    "Showing that $F$ is non-decreasing and is normalized is similar.  Proving the other direction, that is that $F$ is non-decreasing, normalized, and right-continuous then it is a CDF for some random variable, uses some deep tools in analysis."
   ]
  },
  {
   "cell_type": "markdown",
   "metadata": {},
   "source": [
    "$X$ is **discrete** if it takes countably many values\n",
    "\n",
    "$$ \\{ x_1, x_2, \\dots \\} $$\n",
    "\n",
    "We define the **probability density function** or **probability mass function** for $X$ by\n",
    "\n",
    "$$ f_X(x) = \\mathbb{P}(X = x) $$\n",
    "\n",
    "*A set is countable if it is finite or if it can be put in a one-to-one correspondence with the integers.*"
   ]
  },
  {
   "cell_type": "markdown",
   "metadata": {},
   "source": [
    "Thus, $f_X(x) \\geq 0$ for all $x \\in \\mathbb{R}$ and $\\sum_i f_X(x_i) = 1$.  The CDF of $X$ is related to the PDF by\n",
    "\n",
    "$$ F_X(x) = \\mathbb{P}(X \\leq x) = \\sum_{x_i \\leq x} f_X(x_i) $$\n",
    "\n",
    "Sometimes we write $f_X$ and $F_X$ simply as $f$ and $F$."
   ]
  },
  {
   "cell_type": "markdown",
   "metadata": {},
   "source": [
    "A random variable $X$ is **continuous** if there exists a function $f_X$ such that $f_X(x) \\geq 0$ for all $x$, $\\int_{-\\infty}^\\infty f_X(x) dx = 1$, and for every $a \\leq b$,\n",
    "\n",
    "$$ \\mathbb{P}(a < X < b) = \\int_a^b f_X(x) dx $$\n",
    "  \n",
    "The function $f_X$ is called the **probability density function**.  We have that\n",
    "\n",
    "$$ F_X(x) = \\int_{-\\infty}^x f_X(t) dt $$\n",
    "\n",
    "and $f_X(x) = F'_X(x)$ at all points $x$ at which $F_X$ is differentiable.\n",
    "\n",
    "Sometimes we shall write $\\int f(x) dx$ or simply $\\int f$ to mean $\\int_{-\\infty}^\\infty f(x) dx$."
   ]
  },
  {
   "cell_type": "markdown",
   "metadata": {},
   "source": [
    "**Warning**:  Note that if $X$ is continuous then $\\mathbb{P}(X = x) = 0$ for every $x$.  We only have $f(x) = \\mathbb{P}(X = x)$ for discrete random variables; we get probabilities from a PDF by integrating."
   ]
  },
  {
   "cell_type": "markdown",
   "metadata": {},
   "source": [
    "**Lemma 3.15**.  Let $F$ be the CDF for a random variable $X$.  Then:\n",
    "\n",
    "- $\\mathbb{P}(X = x) = F(x) - F(x^-)$ where  $F(x^-) = \\lim_{y \\uparrow x} F(y)$\n",
    "- $\\mathbb{P}(x < X \\leq y) = F(y) - F(x)$\n",
    "- $\\mathbb{P}(X > x) = 1 - F(x)$\n",
    "- If $X$ is continuous then\n",
    "\n",
    "  $$ \\mathbb{P}(a < X < b) = \\mathbb{P}(a \\leq X < b) = \\mathbb{P}(a < X \\leq b) = \\mathbb{P}(a \\leq X \\leq b) $$"
   ]
  },
  {
   "cell_type": "markdown",
   "metadata": {},
   "source": [
    "It is also useful to define the inverse CDF (or quantile function).\n",
    "\n",
    "Let $X$ be a random variable with CDF $F$.  The **inverse CDF** or **quantile function** is defined by\n",
    "\n",
    "$$ F^{-1}(q) = \\inf \\{ x : F(x) \\leq q \\} $$\n",
    "\n",
    "for $q \\in [0, 1]$.  If $F$ is strictly increasing and continuous then $F^{-1}(q)$ is the unique real number $x$ such that $F(x) = q$."
   ]
  },
  {
   "cell_type": "markdown",
   "metadata": {},
   "source": [
    "We call $F^{-1}(1/4)$ the first quartile, $F^{-1}(1/2)$ the median (or second quartile), and $F^{-1}(3/4)$ the third quartile."
   ]
  },
  {
   "cell_type": "markdown",
   "metadata": {},
   "source": [
    "Two random variables $X$ and $Y$ are **equal in distribution** -- written $X \\overset{d}= Y$ -- if $F_X(x) = F_Y(x)$ for all $x$.  This does not mean that $X$ and $Y$ are equal.  Rather, it means that probability statements about $X$ and $Y$ will be the same."
   ]
  },
  {
   "cell_type": "markdown",
   "metadata": {},
   "source": [
    "### 3.3 Some Important Discrete Random Variables"
   ]
  },
  {
   "cell_type": "markdown",
   "metadata": {},
   "source": [
    "**Warning about notation**:  It is traditional to write $X \\sim F$ to indicate that $X$ has distribution $F$.  This is an unfortunate notation since the symbol $\\sim$ is also used to denote an approximation.  The notation is so pervasive we are stuck with it.\n",
    "\n",
    "*.. and we use $A \\approx B$ to denote approximation.  The LaTeX macros hint at this common usage: `\\sim` for $\\sim$, and `\\approx` for $\\approx$.*"
   ]
  },
  {
   "cell_type": "markdown",
   "metadata": {},
   "source": [
    "#### The Point Mass Distribution\n",
    "\n",
    "$X$ has a point mass distribution at $a$, written $X \\sim \\delta_a$, if $\\mathbb{P}(X = a) = 1$, in which case\n",
    "\n",
    "$$ F(x) = \\begin{cases}\n",
    "0 &\\text{if } x < a \\\\\n",
    "1 &\\text{if } x \\geq a\n",
    "\\end{cases} $$\n",
    "\n",
    "The probability mass function is $f(x) = I(x = a)$, which takes value 1 if $x = a$ and 0 otherwise."
   ]
  },
  {
   "cell_type": "markdown",
   "metadata": {},
   "source": [
    "#### The Discrete Uniform Distribution\n",
    "\n",
    "Let $k > 1$ be a given integer.  Suppose that $X$ has probability mass function given by\n",
    "\n",
    "$$ f(x) = \\begin{cases}\n",
    "1/k &\\text{for } x = 1, \\dots, k \\\\\n",
    "0 &\\text{otherwise}\n",
    "\\end{cases} $$\n",
    "\n",
    "We say that $X$ has a uniform distribution on $\\{ 1, \\dots, k \\}$."
   ]
  },
  {
   "cell_type": "markdown",
   "metadata": {},
   "source": [
    "#### The Bernoulli Distribution\n",
    "\n",
    "Let $X$ represent a coin flip.  Then $\\mathbb{P}(X = 1) = p$ and $\\mathbb{P}(X = 0) = 1 - p$ for some $p \\in [0, 1]$.  We say that $X$ has a Bernoulli distribution, written $X \\sim \\text{Bernoulli}(p)$.  The probability mass function is $f(x) = p^x (1 - p)^{1 - x}$ for $x \\in \\{ 0, 1 \\}$."
   ]
  },
  {
   "cell_type": "markdown",
   "metadata": {},
   "source": [
    "#### The Binomial Distribution\n",
    "\n",
    "Suppose we have a coin which falls heads with probability $p$ for some $0 \\leq p \\leq 1$.  Flip the coin $n$ times and let $X$ be the number of heads.  Assume that the tosses are independent.  Let $f(x) = \\mathbb{P}(X = x)$ be the mass function.  It can be shown that\n",
    "\n",
    "$$ f(x) = \\begin{cases}\n",
    "\\binom{n}{x} p^x (1 - p)^{n - x} &\\text{for } x= 0, \\dots, n \\\\\n",
    "0 &\\text{otherwise}\n",
    "\\end{cases} $$\n",
    "\n",
    "A random variable with this mass function is called a Binomial random variable, and we write $X \\sim \\text{Binomial}(n, p)$.  If $X_1 \\sim \\text{Binomial}(n, p_1)$ and $X_2 \\sim \\text{Binomial}(n, p_2)$ then $X_1 + X_2 \\sim \\text{Bimomial}(n, p_1 + p_2)$."
   ]
  },
  {
   "cell_type": "markdown",
   "metadata": {},
   "source": [
    "Note that $X$ is a random variable, $x$ denotes a particular value of the random variable, and $n$ and $p$ are **parameters**, that is, fixed real numbers."
   ]
  },
  {
   "cell_type": "markdown",
   "metadata": {},
   "source": [
    "#### The Geometric Distribution\n",
    "\n",
    "$X$ has a geometric distribution with parameter $p \\in (0, 1)$, written $X \\sim \\text{Geom}(p)$, if\n",
    "\n",
    "$$\\mathbb{P}(X = k) = p(1 - p)^{k - 1}, \\quad k \\geq 1$$\n",
    "\n",
    "We have that\n",
    "\n",
    "$$ \\sum_{k=1}^\\infty \\mathbb{P}(X = k) = p \\sum_{k=1}^\\infty (1 - p)^k = \\frac{p}{1 - (1 - p)} = 1 $$\n",
    "\n",
    "Think of $X$ as the number of flips needed until the first heads when flipping a coin."
   ]
  },
  {
   "cell_type": "markdown",
   "metadata": {},
   "source": [
    "#### The Poisson Distribution\n",
    "\n",
    "$X$ has a Poisson distribution with parameter $\\lambda$, written $X \\sim \\text{Poisson}(\\lambda)$, if\n",
    "\n",
    "$$ f(x) = e^{-\\lambda} \\frac{\\lambda^x}{x!}, \\quad x \\geq 0 $$\n",
    "\n",
    "Note that\n",
    "\n",
    "$$ \\sum_{x=1}^\\infty f(x) = e^{-\\lambda} \\sum_{x=1}^\\infty \\frac{\\lambda^x}{x!} = e^{-\\lambda} e^\\lambda = 1 $$\n",
    "\n",
    "The Poisson distribution is often used as a model for counts of rare events like radioactive decay and traffic accidents.  If $X_1 \\sim \\text{Poisson}(n, \\lambda_1)$ and $X_2 \\sim \\text{Poisson}(n, \\lambda_2)$ then $X_1 + X_2 \\sim \\text{Poisson}(n, \\lambda_1 + \\lambda_2)$."
   ]
  },
  {
   "cell_type": "markdown",
   "metadata": {},
   "source": [
    "**Warning**:  We defined random variables to be mappings from a sample space $\\Omega$ to $\\mathbb{R}$ but we did not mention sample space in any of the distributions above.  Let's construct a sample space explicitly for a Bernoulli random variable.  Let $\\Omega = [0, 1]$, and define $\\mathbb{P}$ to satisfy $\\mathbb{P}([a, b]) = b - a$ for $0 \\leq a \\leq b \\leq 1$.  Fix $p \\in [0, 1]$ and define\n",
    "\n",
    "$$ X(\\omega) = \\begin{cases}\n",
    "1 &\\text{if }\\omega \\leq p \\\\\n",
    "0 &\\text{if }\\omega > p\n",
    "\\end{cases} $$\n",
    "\n",
    "Then $\\mathbb{P}(X = 1) = \\mathbb{P}(\\omega \\leq p) = \\mathbb{P}([0, p]) = p$ and $\\mathbb{P}(X = 0) = 1 - p$.  Thus, $X \\sim \\text{Bernoulli}(p)$.  We could do this for all of the distributions defined above.  In practice, we think of a random variable like a random number but formally it is a mapping defined on some sample space."
   ]
  },
  {
   "cell_type": "markdown",
   "metadata": {},
   "source": [
    "### 3.4 Some Important Continuous Random Variables"
   ]
  },
  {
   "cell_type": "markdown",
   "metadata": {},
   "source": [
    "#### The Uniform Distribution\n",
    "\n",
    "$X$ has a uniform distribution with parameters $a$ and $b$, written $X \\sim \\text{Uniform}(a, b)$, if\n",
    "\n",
    "$$ f(x) = \\begin{cases}\n",
    "\\frac{1}{b - a} &\\text{for } x \\in [a, b] \\\\\n",
    "0 &\\text{otherwise}\n",
    "\\end{cases}$$\n",
    "\n",
    "where $a < b$.  The CDF is\n",
    "\n",
    "$$ F(x) = \\begin{cases}\n",
    "0 &\\text{if } x < a \\\\\n",
    "\\frac{x - a}{b - a} &\\text{if } x \\in [a, b] \\\\\n",
    "1 &\\text{if } x > b\n",
    "\\end{cases} $$"
   ]
  },
  {
   "cell_type": "markdown",
   "metadata": {},
   "source": [
    "#### Normal (Gaussian)\n",
    "\n",
    "$X$ has a Normal (or Gaussian) distribution with parameters $\\mu$ and $\\sigma$, denoted by $X \\sim N(\\mu, \\sigma^2)$, if\n",
    "\n",
    "$$ f(x) = \\frac{1}{\\sigma \\sqrt{2 \\pi}} \\exp \\left\\{ -\\frac{1}{2} \\left( \\frac{x - \\mu}{\\sigma} \\right)^2\\right\\}, \\quad x \\in \\mathbb{R} $$\n",
    "\n",
    "where $\\mu \\in \\mathbb{R}$ and $\\sigma > 0$.  Later we shall see that $\\mu$ is the \"center\" (or mean) of the distribution and that $\\sigma$ is the \"spread\" (or standard deviation) of the distribution.  The Normal plays an important role in probability and statistics.  Many phenomena have approximately Normal distributions.  Later, we shall see that the distribution of a sum of random variables can be approximated by a Normal distribution (the central limit theorem).\n",
    "\n",
    "We say that $X$ has a **standard Normal distribution** if $\\mu = 0$ and $\\sigma = 1$.  Tradition dictates that a standard Normal random variable is denoted by $Z$.  The PDF and the CDF of a standard Normal are denoted by $\\phi(z)$ and $\\Phi(z)$.  The PDF is plotted below."
   ]
  },
  {
   "cell_type": "code",
   "execution_count": 1,
   "metadata": {},
   "outputs": [
    {
     "data": {
      "image/png": "[encoded data removed]",
      "text/plain": [
       "<Figure size 864x576 with 1 Axes>"
      ]
     },
     "metadata": {
      "needs_background": "light"
     },
     "output_type": "display_data"
    }
   ],
   "source": [
    "import numpy as np\n",
    "from scipy.stats import norm\n",
    "import matplotlib.pyplot as plt\n",
    "%matplotlib inline\n",
    "\n",
    "xx = np.arange(-5, 5, step=0.01)\n",
    "\n",
    "plt.figure(figsize=(12, 8))\n",
    "plt.plot(xx, norm.pdf(xx, loc=0, scale=1))\n",
    "plt.title('Standard Normal PDF')\n",
    "plt.show()"
   ]
  },
  {
   "cell_type": "markdown",
   "metadata": {},
   "source": [
    "There is no closed-form expression for $\\Phi$.  Here are some useful facts:\n",
    "\n",
    "- If $X \\sim N(\\mu, \\sigma^2)$ then $Z = (X - \\mu) / \\sigma \\sim N(0, 1)$\n",
    "- If $Z \\sim N(0, 1)$ then $X = \\mu + \\sigma Z \\sim N(\\mu, \\sigma^2)$\n",
    "- If $X_i \\sim N(\\mu_i, \\sigma_i^2)$, $i = 1, \\dots, n$ are independent then\n",
    "\n",
    "  $$ \\sum_{i=1}^n X_i \\sim N \\left(\\sum_{i=1}^n \\mu_u, \\sum_{i=1}^n \\sigma_i^2 \\right) $$"
   ]
  },
  {
   "cell_type": "markdown",
   "metadata": {},
   "source": [
    "It follows from the first fact that if $X \\sim N(\\mu, \\sigma^2)$ then\n",
    "\n",
    "$$ \\mathbb{P}(a < X < b) = \\mathbb{P}\\left( \\frac{a - \\mu}{\\sigma} < Z < \\frac{b - \\mu}{\\sigma} \\right) \n",
    "= \\Phi \\left( \\frac{b - \\mu}{\\sigma} \\right) - \\Phi \\left( \\frac{a - \\mu}{\\sigma} \\right) $$\n",
    "\n",
    "Thus we can compute any probabilities we want as long as we can compute the CDF $\\Phi(z)$ of the standard Normal.  All statistical and computing packages will compute $\\Phi(z)$ and $\\Phi^{-1}(q)$."
   ]
  },
  {
   "cell_type": "markdown",
   "metadata": {},
   "source": [
    "#### Exponential Distribution\n",
    "\n",
    "$X$ has an exponential distribution with parameter $\\beta$, denoted by $X \\sim \\text{Exp}(\\beta)$, if\n",
    "\n",
    "$$ f(x) = \\frac{1}{\\beta} e^{-x / \\beta}, \\quad x > 0 $$\n",
    "\n",
    "where $\\beta > 0$.  The exponential distribution is used to model the lifetimes of electronic components and the waiting times between rare events."
   ]
  },
  {
   "cell_type": "markdown",
   "metadata": {},
   "source": [
    "#### Gamma Distribution\n",
    "\n",
    "For $\\alpha > 0$, the **Gamma function** is defined by $\\Gamma(\\alpha) = \\int_0^\\infty y^{\\alpha - 1} e^{-y} dy$.  $X$ has a Gamma distribution with parameters $\\alpha$ and $\\beta$, denoted by $X \\sim \\text{Gamma}(\\alpha, \\beta)$, if\n",
    "\n",
    "$$ f(x) = \\frac{1}{\\beta^\\alpha \\Gamma(\\alpha)} x^{\\alpha - 1} e^{-x / \\beta}, \\quad x > 0 $$\n",
    "\n",
    "where $\\alpha, \\beta > 0$.  The exponential distribution is just a $\\text{Gamma}(1, \\beta)$ distribution.  If $X_i \\sim \\text{Gamma}(\\alpha_i, \\beta)$ are independent, then $\\sum_{i=1}^n X_i \\sim \\text{Gamma}\\left( \\sum_{i=1}^n \\alpha_i, \\beta \\right)$."
   ]
  },
  {
   "cell_type": "markdown",
   "metadata": {},
   "source": [
    "#### Beta Distribution\n",
    "\n",
    "$X$ has Beta distribution with parameters $\\alpha > 0$ and $\\beta > 0$, denoted by $X \\sim \\text{Beta}(\\alpha, \\beta)$, if\n",
    "\n",
    "$$ f(x) = \\frac{\\Gamma(\\alpha + \\beta)}{\\Gamma(\\alpha) \\Gamma(\\beta)} x^{\\alpha - 1} (1 - x)^{\\beta - 1}, \\quad 0 < x < 1$$"
   ]
  },
  {
   "cell_type": "markdown",
   "metadata": {},
   "source": [
    "#### $t$ and Cauchy Distribution\n",
    "\n",
    "$X$ has a $t$ distribution with $\\nu$ degrees of freedom -- written $X \\sim t_\\nu$ -- if\n",
    "\n",
    "$$ f(x) = \\frac{\\Gamma\\left( \\frac{\\nu + 1}{2} \\right)}{\\Gamma\\left( \\frac{\\nu}{2} \\right)} \\frac{1}{\\left(1 + \\frac{x^2}{\\nu} \\right)^{(\\nu + 1) / 2}} $$\n",
    "\n",
    "The $t$ distribution is similar to a Normal but it has thicker tails.  In fact, the Normal corresponds to a $t$ with $\\nu = \\infty$.  The Cauchy distribution is a special case of the $t$ distribution corresponding to $\\nu = 1$.  The density is\n",
    "\n",
    "$$ f(x) = \\frac{1}{\\pi (1 + x^2)} $$"
   ]
  },
  {
   "cell_type": "markdown",
   "metadata": {},
   "source": [
    "#### The $\\chi^2$ Distribution\n",
    "\n",
    "$X$ has a $\\chi^2$ distribution with $p$ degrees of freedom -- written $X \\sim \\chi_p^2$ -- if\n",
    "\n",
    "$$ f(x) = \\frac{1}{\\Gamma\\left(\\frac{p}{2}\\right) 2^{\\frac{p}{2}}} x^{\\frac{p}{2} - 1} e^{-\\frac{x}{2}}, \\quad x > 0 $$\n",
    "\n",
    "If $Z_1, Z_2, \\dots$ are independent standard Normal random variables then $\\sum_{i=1}^p Z_i^2 \\sim \\chi_p^2$."
   ]
  },
  {
   "cell_type": "code",
   "execution_count": null,
   "metadata": {},
   "outputs": [],
   "source": []
  }
 ],
 "metadata": {
  "kernelspec": {
   "display_name": "Python 3",
   "language": "python",
   "name": "python3"
  },
  "language_info": {
   "codemirror_mode": {
    "name": "ipython",
    "version": 3
   },
   "file_extension": ".py",
   "mimetype": "text/x-python",
   "name": "python",
   "nbconvert_exporter": "python",
   "pygments_lexer": "ipython3",
   "version": "3.7.3"
  }
 },
 "nbformat": 4,
 "nbformat_minor": 2
}
